{
 "cells": [
  {
   "cell_type": "code",
   "execution_count": 1,
   "metadata": {
    "scrolled": true
   },
   "outputs": [],
   "source": [
    "import pandas_datareader as pdr"
   ]
  },
  {
   "cell_type": "code",
   "execution_count": 2,
   "metadata": {
    "collapsed": true
   },
   "outputs": [],
   "source": [
    "import datetime"
   ]
  },
  {
   "cell_type": "code",
   "execution_count": 3,
   "metadata": {
    "collapsed": true
   },
   "outputs": [],
   "source": [
    "t = pdr.get_data_yahoo('000333.SZ', start=datetime.datetime(2006,10,1), end=datetime.datetime.now())"
   ]
  },
  {
   "cell_type": "code",
   "execution_count": 4,
   "metadata": {},
   "outputs": [
    {
     "name": "stdout",
     "output_type": "stream",
     "text": [
      "                 Open       High        Low      Close  Adj Close      Volume\n",
      "Date                                                                         \n",
      "2006-10-09   1.995560   2.017780   1.991110   2.017780   1.459481   9730048.0\n",
      "2006-10-10   2.020000   2.020000   1.977780   1.988890   1.438584  13840772.0\n",
      "2006-10-11   1.984440   2.022220   1.953330   2.011110   1.454656   7417890.0\n",
      "2006-10-12   2.000000   2.020000   1.984440   1.986670   1.436979   4170537.0\n",
      "2006-10-13   1.977780   2.000000   1.951110   1.951110   1.411258   4711635.0\n",
      "2006-10-16   1.955560   1.973330   1.893330   1.893330   1.369465   8988066.0\n",
      "2006-10-17   1.893330   1.968890   1.893330   1.962220   1.419294   4639622.0\n",
      "2006-10-18   1.951110   2.026670   1.933330   1.986670   1.436979   5822294.0\n",
      "2006-10-19   1.991110   2.013330   1.988890   2.000000   1.446620   5977912.0\n",
      "2006-10-20   1.997780   2.004440   1.980000   1.991110   1.440190   3340872.0\n",
      "2006-10-23   1.988890   1.988890   1.931110   1.942220   1.404827   3555639.0\n",
      "2006-10-24   1.940000   2.000000   1.940000   2.000000   1.446620   4485186.0\n",
      "2006-10-25   1.975560   2.020000   1.960000   2.013330   1.456262   9205785.0\n",
      "2006-10-26   2.015560   2.015560   1.997780   2.004440   1.449832   5790694.0\n",
      "2006-10-27   2.000000   2.113330   1.995560   2.084440   1.507697  26016980.0\n",
      "2006-10-30   2.088890   2.100000   2.024440   2.046670   1.480377  10699767.0\n",
      "2006-10-31   2.044440   2.077780   2.044440   2.073330   1.499660   7459628.0\n",
      "2006-11-01   2.071110   2.088890   2.044440   2.053330   1.485194   3656745.0\n",
      "2006-11-02   2.051110   2.055560   2.024440   2.044440   1.478764   5634410.0\n",
      "2006-11-03   2.044440   2.044440   2.044440   2.044440   1.478764         0.0\n",
      "2006-11-06   2.066670   2.175560   2.066670   2.115560   1.530206  15347610.0\n",
      "2006-11-07   2.115560   2.277780   2.115560   2.248890   1.626645  33889036.0\n",
      "2006-11-08   2.262220   2.306670   2.222220   2.291110   1.657183  28144714.0\n",
      "2006-11-09   2.266670   2.382220   2.262220   2.362220   1.708618  24487780.0\n",
      "2006-11-10   2.355560   2.377780   2.311110   2.344440   1.695758  21160886.0\n",
      "2006-11-13   2.344440   2.444440   2.328890   2.400000   1.735945  22630450.0\n",
      "2006-11-14   2.400000   2.488890   2.362220   2.415560   1.747199  13523571.0\n",
      "2006-11-15   2.422220   2.488890   2.411110   2.477780   1.792204  16478064.0\n",
      "2006-11-16   2.477780   2.533330   2.455560   2.471110   1.787379  16356771.0\n",
      "2006-11-17   2.482220   2.715560   2.480000   2.666670   1.928829  28054125.0\n",
      "...               ...        ...        ...        ...        ...         ...\n",
      "2017-07-11  41.400002  43.299999  41.400002  42.950001  42.950001  68685309.0\n",
      "2017-07-12  42.810001  43.169998  41.450001  41.700001  41.700001  42562092.0\n",
      "2017-07-13  41.500000  42.610001  41.349998  41.990002  41.990002  27696758.0\n",
      "2017-07-14  41.799999  42.389999  41.380001  42.169998  42.169998  23161858.0\n",
      "2017-07-17  42.099998  42.500000  40.500000  41.660000  41.660000  46048766.0\n",
      "2017-07-18  41.470001  41.820000  40.680000  41.000000  41.000000  37581523.0\n",
      "2017-07-19  41.200001  41.930000  40.930000  41.220001  41.220001  31519178.0\n",
      "2017-07-20  41.299999  42.349998  40.700001  42.250000  42.250000  46636660.0\n",
      "2017-07-21  42.340000  42.459999  41.680000  41.900002  41.900002  29503966.0\n",
      "2017-07-24  41.910000  43.549999  41.599998  43.419998  43.419998  60522159.0\n",
      "2017-07-25  43.439999  43.650002  42.950001  43.419998  43.419998  32736712.0\n",
      "2017-07-26  43.599998  43.599998  41.930000  42.340000  42.340000  38917650.0\n",
      "2017-07-27  42.340000  42.340000  40.770000  41.200001  41.200001  41800681.0\n",
      "2017-07-28  41.230000  41.840000  41.070000  41.400002  41.400002  24093240.0\n",
      "2017-07-31  41.580002  41.580002  40.779999  41.200001  41.200001  33013694.0\n",
      "2017-08-01  41.209999  41.590000  40.849998  41.189999  41.189999  34303389.0\n",
      "2017-08-02  41.180000  41.180000  40.750000  40.799999  40.799999  25701585.0\n",
      "2017-08-03  40.610001  41.000000  39.900002  40.080002  40.080002  35773018.0\n",
      "2017-08-04  40.189999  40.389999  39.380001  39.450001  39.450001  30704481.0\n",
      "2017-08-07  39.349998  40.430000  38.669998  40.290001  40.290001  42068653.0\n",
      "2017-08-08  40.200001  40.480000  39.889999  39.980000  39.980000  21244041.0\n",
      "2017-08-09  40.130001  41.349998  39.509998  40.799999  40.799999  29355858.0\n",
      "2017-08-10  40.689999  41.180000  40.299999  40.849998  40.849998  22906180.0\n",
      "2017-08-11  40.299999  40.900002  39.599998  39.639999  39.639999  23561244.0\n",
      "2017-08-14  39.660000  40.450001  39.599998  40.119999  40.119999  21084953.0\n",
      "2017-08-15  40.119999  40.119999  39.639999  39.770000  39.770000  24780374.0\n",
      "2017-08-16  39.689999  39.689999  38.810001  39.049999  39.049999  31826165.0\n",
      "2017-08-17  39.060001  39.450001  38.849998  39.320000  39.320000  26038664.0\n",
      "2017-08-18  38.980000  39.439999  38.900002  39.130001  39.130001  17084395.0\n",
      "2017-08-21  39.119999  39.869999  38.950001  39.709999  39.709999  22168379.0\n",
      "\n",
      "[2650 rows x 6 columns]\n"
     ]
    }
   ],
   "source": [
    "print(t)"
   ]
  },
  {
   "cell_type": "code",
   "execution_count": 5,
   "metadata": {},
   "outputs": [
    {
     "data": {
      "text/html": [
       "<div>\n",
       "<style>\n",
       "    .dataframe thead tr:only-child th {\n",
       "        text-align: right;\n",
       "    }\n",
       "\n",
       "    .dataframe thead th {\n",
       "        text-align: left;\n",
       "    }\n",
       "\n",
       "    .dataframe tbody tr th {\n",
       "        vertical-align: top;\n",
       "    }\n",
       "</style>\n",
       "<table border=\"1\" class=\"dataframe\">\n",
       "  <thead>\n",
       "    <tr style=\"text-align: right;\">\n",
       "      <th></th>\n",
       "      <th>Open</th>\n",
       "      <th>High</th>\n",
       "      <th>Low</th>\n",
       "      <th>Close</th>\n",
       "      <th>Adj Close</th>\n",
       "      <th>Volume</th>\n",
       "    </tr>\n",
       "    <tr>\n",
       "      <th>Date</th>\n",
       "      <th></th>\n",
       "      <th></th>\n",
       "      <th></th>\n",
       "      <th></th>\n",
       "      <th></th>\n",
       "      <th></th>\n",
       "    </tr>\n",
       "  </thead>\n",
       "  <tbody>\n",
       "    <tr>\n",
       "      <th>2006-10-09</th>\n",
       "      <td>1.99556</td>\n",
       "      <td>2.01778</td>\n",
       "      <td>1.99111</td>\n",
       "      <td>2.01778</td>\n",
       "      <td>1.459481</td>\n",
       "      <td>9730048.0</td>\n",
       "    </tr>\n",
       "    <tr>\n",
       "      <th>2006-10-10</th>\n",
       "      <td>2.02000</td>\n",
       "      <td>2.02000</td>\n",
       "      <td>1.97778</td>\n",
       "      <td>1.98889</td>\n",
       "      <td>1.438584</td>\n",
       "      <td>13840772.0</td>\n",
       "    </tr>\n",
       "    <tr>\n",
       "      <th>2006-10-11</th>\n",
       "      <td>1.98444</td>\n",
       "      <td>2.02222</td>\n",
       "      <td>1.95333</td>\n",
       "      <td>2.01111</td>\n",
       "      <td>1.454656</td>\n",
       "      <td>7417890.0</td>\n",
       "    </tr>\n",
       "    <tr>\n",
       "      <th>2006-10-12</th>\n",
       "      <td>2.00000</td>\n",
       "      <td>2.02000</td>\n",
       "      <td>1.98444</td>\n",
       "      <td>1.98667</td>\n",
       "      <td>1.436979</td>\n",
       "      <td>4170537.0</td>\n",
       "    </tr>\n",
       "    <tr>\n",
       "      <th>2006-10-13</th>\n",
       "      <td>1.97778</td>\n",
       "      <td>2.00000</td>\n",
       "      <td>1.95111</td>\n",
       "      <td>1.95111</td>\n",
       "      <td>1.411258</td>\n",
       "      <td>4711635.0</td>\n",
       "    </tr>\n",
       "  </tbody>\n",
       "</table>\n",
       "</div>"
      ],
      "text/plain": [
       "               Open     High      Low    Close  Adj Close      Volume\n",
       "Date                                                                 \n",
       "2006-10-09  1.99556  2.01778  1.99111  2.01778   1.459481   9730048.0\n",
       "2006-10-10  2.02000  2.02000  1.97778  1.98889   1.438584  13840772.0\n",
       "2006-10-11  1.98444  2.02222  1.95333  2.01111   1.454656   7417890.0\n",
       "2006-10-12  2.00000  2.02000  1.98444  1.98667   1.436979   4170537.0\n",
       "2006-10-13  1.97778  2.00000  1.95111  1.95111   1.411258   4711635.0"
      ]
     },
     "execution_count": 5,
     "metadata": {},
     "output_type": "execute_result"
    }
   ],
   "source": [
    "t.head()"
   ]
  },
  {
   "cell_type": "code",
   "execution_count": 6,
   "metadata": {},
   "outputs": [
    {
     "data": {
      "text/html": [
       "<div>\n",
       "<style>\n",
       "    .dataframe thead tr:only-child th {\n",
       "        text-align: right;\n",
       "    }\n",
       "\n",
       "    .dataframe thead th {\n",
       "        text-align: left;\n",
       "    }\n",
       "\n",
       "    .dataframe tbody tr th {\n",
       "        vertical-align: top;\n",
       "    }\n",
       "</style>\n",
       "<table border=\"1\" class=\"dataframe\">\n",
       "  <thead>\n",
       "    <tr style=\"text-align: right;\">\n",
       "      <th></th>\n",
       "      <th>Open</th>\n",
       "      <th>High</th>\n",
       "      <th>Low</th>\n",
       "      <th>Close</th>\n",
       "      <th>Adj Close</th>\n",
       "      <th>Volume</th>\n",
       "    </tr>\n",
       "  </thead>\n",
       "  <tbody>\n",
       "    <tr>\n",
       "      <th>count</th>\n",
       "      <td>2628.000000</td>\n",
       "      <td>2628.000000</td>\n",
       "      <td>2628.000000</td>\n",
       "      <td>2628.000000</td>\n",
       "      <td>2628.000000</td>\n",
       "      <td>2.628000e+03</td>\n",
       "    </tr>\n",
       "    <tr>\n",
       "      <th>mean</th>\n",
       "      <td>15.432853</td>\n",
       "      <td>15.715633</td>\n",
       "      <td>15.178504</td>\n",
       "      <td>15.454557</td>\n",
       "      <td>13.288888</td>\n",
       "      <td>2.482028e+07</td>\n",
       "    </tr>\n",
       "    <tr>\n",
       "      <th>std</th>\n",
       "      <td>7.588254</td>\n",
       "      <td>7.701185</td>\n",
       "      <td>7.486312</td>\n",
       "      <td>7.600654</td>\n",
       "      <td>7.911157</td>\n",
       "      <td>2.065028e+07</td>\n",
       "    </tr>\n",
       "    <tr>\n",
       "      <th>min</th>\n",
       "      <td>1.893330</td>\n",
       "      <td>1.968890</td>\n",
       "      <td>1.893330</td>\n",
       "      <td>1.893330</td>\n",
       "      <td>1.369465</td>\n",
       "      <td>0.000000e+00</td>\n",
       "    </tr>\n",
       "    <tr>\n",
       "      <th>25%</th>\n",
       "      <td>11.016675</td>\n",
       "      <td>11.260000</td>\n",
       "      <td>10.796675</td>\n",
       "      <td>11.041625</td>\n",
       "      <td>8.696609</td>\n",
       "      <td>1.174984e+07</td>\n",
       "    </tr>\n",
       "    <tr>\n",
       "      <th>50%</th>\n",
       "      <td>13.960000</td>\n",
       "      <td>14.143350</td>\n",
       "      <td>13.726650</td>\n",
       "      <td>13.956650</td>\n",
       "      <td>11.055544</td>\n",
       "      <td>2.046221e+07</td>\n",
       "    </tr>\n",
       "    <tr>\n",
       "      <th>75%</th>\n",
       "      <td>18.644999</td>\n",
       "      <td>19.033300</td>\n",
       "      <td>18.267526</td>\n",
       "      <td>18.676650</td>\n",
       "      <td>15.609871</td>\n",
       "      <td>3.265588e+07</td>\n",
       "    </tr>\n",
       "    <tr>\n",
       "      <th>max</th>\n",
       "      <td>44.400002</td>\n",
       "      <td>45.389999</td>\n",
       "      <td>44.000000</td>\n",
       "      <td>44.480000</td>\n",
       "      <td>44.480000</td>\n",
       "      <td>2.414134e+08</td>\n",
       "    </tr>\n",
       "  </tbody>\n",
       "</table>\n",
       "</div>"
      ],
      "text/plain": [
       "              Open         High          Low        Close    Adj Close  \\\n",
       "count  2628.000000  2628.000000  2628.000000  2628.000000  2628.000000   \n",
       "mean     15.432853    15.715633    15.178504    15.454557    13.288888   \n",
       "std       7.588254     7.701185     7.486312     7.600654     7.911157   \n",
       "min       1.893330     1.968890     1.893330     1.893330     1.369465   \n",
       "25%      11.016675    11.260000    10.796675    11.041625     8.696609   \n",
       "50%      13.960000    14.143350    13.726650    13.956650    11.055544   \n",
       "75%      18.644999    19.033300    18.267526    18.676650    15.609871   \n",
       "max      44.400002    45.389999    44.000000    44.480000    44.480000   \n",
       "\n",
       "             Volume  \n",
       "count  2.628000e+03  \n",
       "mean   2.482028e+07  \n",
       "std    2.065028e+07  \n",
       "min    0.000000e+00  \n",
       "25%    1.174984e+07  \n",
       "50%    2.046221e+07  \n",
       "75%    3.265588e+07  \n",
       "max    2.414134e+08  "
      ]
     },
     "execution_count": 6,
     "metadata": {},
     "output_type": "execute_result"
    }
   ],
   "source": [
    "t.describe()"
   ]
  },
  {
   "cell_type": "code",
   "execution_count": 7,
   "metadata": {
    "collapsed": true
   },
   "outputs": [],
   "source": [
    "import pandas as pd"
   ]
  },
  {
   "cell_type": "code",
   "execution_count": 8,
   "metadata": {},
   "outputs": [
    {
     "data": {
      "text/plain": [
       "pandas.core.frame.DataFrame"
      ]
     },
     "execution_count": 8,
     "metadata": {},
     "output_type": "execute_result"
    }
   ],
   "source": [
    "type(t)"
   ]
  },
  {
   "cell_type": "code",
   "execution_count": 9,
   "metadata": {},
   "outputs": [
    {
     "data": {
      "text/plain": [
       "DatetimeIndex(['2006-10-09', '2006-10-10', '2006-10-11', '2006-10-12',\n",
       "               '2006-10-13', '2006-10-16', '2006-10-17', '2006-10-18',\n",
       "               '2006-10-19', '2006-10-20',\n",
       "               ...\n",
       "               '2017-08-08', '2017-08-09', '2017-08-10', '2017-08-11',\n",
       "               '2017-08-14', '2017-08-15', '2017-08-16', '2017-08-17',\n",
       "               '2017-08-18', '2017-08-21'],\n",
       "              dtype='datetime64[ns]', name=u'Date', length=2650, freq=None)"
      ]
     },
     "execution_count": 9,
     "metadata": {},
     "output_type": "execute_result"
    }
   ],
   "source": [
    "t.index"
   ]
  },
  {
   "cell_type": "code",
   "execution_count": 10,
   "metadata": {
    "collapsed": true
   },
   "outputs": [],
   "source": [
    "monthly_t = t.resample('M').mean()"
   ]
  },
  {
   "cell_type": "code",
   "execution_count": 11,
   "metadata": {},
   "outputs": [
    {
     "name": "stdout",
     "output_type": "stream",
     "text": [
      "                 Open       High        Low      Close  Adj Close  \\\n",
      "Date                                                                \n",
      "2006-10-31   1.989412   2.022484   1.967058   1.997254   1.444634   \n",
      "2006-11-30   2.477878   2.547071   2.451818   2.508384   1.814339   \n",
      "2006-12-31   2.747195   2.808148   2.706878   2.744021   1.984779   \n",
      "2007-01-31   3.388999   3.522222   3.303444   3.457666   2.500965   \n",
      "2007-02-28   4.572149   4.790667   4.465335   4.687407   3.390449   \n",
      "2007-03-31   6.060304   6.246263   5.949192   6.118385   4.425490   \n",
      "2007-04-30   7.046561   7.244551   6.899048   7.115660   5.146830   \n",
      "2007-05-31   9.109224   9.469337   8.947334   9.268890   6.704282   \n",
      "2007-06-30  14.348038  15.031738  13.899795  14.623395  10.816249   \n",
      "2007-07-31  13.460609  13.949500  13.128886  13.511514  10.044464   \n",
      "2007-08-31  14.701265  15.135461  14.397104  14.744156  10.960812   \n",
      "2007-09-30  15.392435  15.802665  15.046440  15.415560  11.459933   \n",
      "2007-10-31  16.536544  16.966172  16.161728  16.562972  12.312919   \n",
      "2007-11-30  15.030909  15.313141  14.640800  14.894150  11.072317   \n",
      "2007-12-31  15.490455  15.801105  15.270430  15.558665  11.566317   \n",
      "2008-01-31  18.693536  19.277768  18.270500  18.728682  13.922909   \n",
      "2008-02-29  20.214719  20.453888  19.933338  20.269163  15.068103   \n",
      "2008-03-31  15.360419  15.749414  14.796824  15.259252  11.343733   \n",
      "2008-04-30  13.567829  13.962114  13.062224  13.535657  10.062413   \n",
      "2008-05-31  13.674115  14.006670  13.196120  13.510880  10.274319   \n",
      "2008-06-30   9.660327   9.860666   9.286334   9.561998   7.304637   \n",
      "2008-07-31   8.380870   8.612463   8.137102   8.397971   6.415409   \n",
      "2008-08-31   6.357778   6.510476   6.138413   6.287301   4.803018   \n",
      "2008-09-30   6.176491   6.356842   5.997894   6.225964   4.756162   \n",
      "2008-10-31   5.600333   5.718999   5.395668   5.528333   4.223225   \n",
      "2008-11-30   5.291666   5.475001   5.193666   5.347334   4.084955   \n",
      "2008-12-31   6.117100   6.266087   5.981448   6.110725   4.668128   \n",
      "2009-01-31   5.562667   5.672001   5.478665   5.586223   4.267448   \n",
      "2009-02-28   7.019649   7.256141   6.803861   7.040702   5.378559   \n",
      "2009-03-31   6.824243   6.990000   6.680607   6.861819   5.241906   \n",
      "...               ...        ...        ...        ...        ...   \n",
      "2015-03-31  20.838186  21.089704  20.540914  20.789095  18.685740   \n",
      "2015-04-30  23.254924  23.813014  22.842228  23.313976  20.999179   \n",
      "2015-05-31  24.202005  24.671005  23.631335  24.124330  22.588265   \n",
      "2015-06-30  24.938748  25.567305  24.061267  24.913338  23.327035   \n",
      "2015-07-31  23.091022  23.705500  22.275635  23.062596  21.594135   \n",
      "2015-08-31  20.734919  21.162528  20.201910  20.648257  19.333524   \n",
      "2015-09-30  17.644345  17.960670  17.252330  17.617675  16.495907   \n",
      "2015-10-31  18.183924  18.533723  17.927842  18.291371  17.126707   \n",
      "2015-11-30  19.206028  19.455876  18.930791  19.188576  17.966785   \n",
      "2015-12-31  20.096235  20.664935  19.831879  20.286078  18.994406   \n",
      "2016-01-31  19.038325  19.484655  18.497660  18.917995  17.713432   \n",
      "2016-02-29  18.336244  18.494575  18.043744  18.253319  17.091078   \n",
      "2016-03-31  19.690435  20.082896  19.452743  19.783474  18.523804   \n",
      "2016-04-30  20.445665  20.687005  20.239325  20.464330  19.161308   \n",
      "2016-05-31  21.348890  21.672700  21.227462  21.444124  20.724673   \n",
      "2016-06-30  22.860000  23.236000  22.553500  22.937000  22.287227   \n",
      "2016-07-31  26.327619  27.152857  25.920476  26.512381  25.761322   \n",
      "2016-08-31  27.639565  28.016087  27.266522  27.612174  26.829960   \n",
      "2016-09-30  26.588500  26.798500  26.312500  26.549500  25.797390   \n",
      "2016-10-31  26.593125  26.753750  26.378750  26.596250  25.842815   \n",
      "2016-11-30  27.766818  28.240909  27.510000  27.920909  27.129949   \n",
      "2016-12-31  28.833182  29.236818  28.455909  28.761364  27.946595   \n",
      "2017-01-31  28.940556  29.372222  28.715556  29.062778  28.239471   \n",
      "2017-02-28  31.216111  31.676667  30.935000  31.306667  30.419793   \n",
      "2017-03-31  33.456521  33.926521  33.066087  33.540869  32.590704   \n",
      "2017-04-30  33.484444  33.920555  33.038889  33.533889  32.583921   \n",
      "2017-05-31  35.255000  35.847000  34.827000  35.502000  35.200952   \n",
      "2017-06-30  40.328182  41.077273  39.847727  40.601364  40.601364   \n",
      "2017-07-31  42.020476  42.574761  41.288571  41.983810  41.983810   \n",
      "2017-08-31  40.032666  40.501333  39.573333  40.012000  40.012000   \n",
      "\n",
      "                  Volume  \n",
      "Date                      \n",
      "2006-10-31  7.991372e+06  \n",
      "2006-11-30  1.610294e+07  \n",
      "2006-12-31  1.260923e+07  \n",
      "2007-01-31  2.748447e+07  \n",
      "2007-02-28  1.247184e+07  \n",
      "2007-03-31  1.264885e+07  \n",
      "2007-04-30  1.643570e+07  \n",
      "2007-05-31  2.223732e+07  \n",
      "2007-06-30  4.329292e+07  \n",
      "2007-07-31  2.553674e+07  \n",
      "2007-08-31  1.913626e+07  \n",
      "2007-09-30  1.877558e+07  \n",
      "2007-10-31  1.519204e+07  \n",
      "2007-11-30  5.843822e+06  \n",
      "2007-12-31  1.163966e+07  \n",
      "2008-01-31  1.984124e+07  \n",
      "2008-02-29  5.681909e+06  \n",
      "2008-03-31  1.035364e+07  \n",
      "2008-04-30  7.019118e+06  \n",
      "2008-05-31  9.509105e+06  \n",
      "2008-06-30  9.361601e+06  \n",
      "2008-07-31  1.207812e+07  \n",
      "2008-08-31  1.028497e+07  \n",
      "2008-09-30  1.689288e+07  \n",
      "2008-10-31  1.051727e+07  \n",
      "2008-11-30  1.429546e+07  \n",
      "2008-12-31  1.588387e+07  \n",
      "2009-01-31  2.473245e+07  \n",
      "2009-02-28  5.649961e+07  \n",
      "2009-03-31  2.395165e+07  \n",
      "...                  ...  \n",
      "2015-03-31  3.985132e+07  \n",
      "2015-04-30  7.299035e+07  \n",
      "2015-05-31  5.581426e+07  \n",
      "2015-06-30  6.779539e+07  \n",
      "2015-07-31  7.333533e+07  \n",
      "2015-08-31  4.603413e+07  \n",
      "2015-09-30  3.228261e+07  \n",
      "2015-10-31  3.384250e+07  \n",
      "2015-11-30  4.033593e+07  \n",
      "2015-12-31  3.862578e+07  \n",
      "2016-01-31  3.089948e+07  \n",
      "2016-02-29  1.591420e+07  \n",
      "2016-03-31  2.402710e+07  \n",
      "2016-04-30  1.974884e+07  \n",
      "2016-05-31  1.868045e+07  \n",
      "2016-06-30  3.481972e+07  \n",
      "2016-07-31  6.121141e+07  \n",
      "2016-08-31  3.685603e+07  \n",
      "2016-09-30  2.095715e+07  \n",
      "2016-10-31  2.175100e+07  \n",
      "2016-11-30  3.494185e+07  \n",
      "2016-12-31  3.130504e+07  \n",
      "2017-01-31  2.739023e+07  \n",
      "2017-02-28  3.359905e+07  \n",
      "2017-03-31  3.599673e+07  \n",
      "2017-04-30  3.976492e+07  \n",
      "2017-05-31  4.367968e+07  \n",
      "2017-06-30  4.691321e+07  \n",
      "2017-07-31  4.032017e+07  \n",
      "2017-08-31  2.724009e+07  \n",
      "\n",
      "[131 rows x 6 columns]\n"
     ]
    }
   ],
   "source": [
    "print monthly_t\n"
   ]
  },
  {
   "cell_type": "code",
   "execution_count": 12,
   "metadata": {},
   "outputs": [
    {
     "ename": "ImportError",
     "evalue": "No module named matplotlib.pyplot",
     "output_type": "error",
     "traceback": [
      "\u001b[0;31m---------------------------------------------------------------------------\u001b[0m",
      "\u001b[0;31mImportError\u001b[0m                               Traceback (most recent call last)",
      "\u001b[0;32m<ipython-input-12-eff513f636fd>\u001b[0m in \u001b[0;36m<module>\u001b[0;34m()\u001b[0m\n\u001b[0;32m----> 1\u001b[0;31m \u001b[0;32mimport\u001b[0m \u001b[0mmatplotlib\u001b[0m\u001b[0;34m.\u001b[0m\u001b[0mpyplot\u001b[0m \u001b[0;32mas\u001b[0m \u001b[0mplt\u001b[0m\u001b[0;34m\u001b[0m\u001b[0m\n\u001b[0m",
      "\u001b[0;31mImportError\u001b[0m: No module named matplotlib.pyplot"
     ]
    }
   ],
   "source": [
    "import matplotlib.pyplot as plt\n"
   ]
  },
  {
   "cell_type": "code",
   "execution_count": 13,
   "metadata": {
    "collapsed": true
   },
   "outputs": [],
   "source": [
    "import matplotlib.pyplot as plt"
   ]
  },
  {
   "cell_type": "code",
   "execution_count": 14,
   "metadata": {},
   "outputs": [
    {
     "data": {
      "text/plain": [
       "<matplotlib.axes._subplots.AxesSubplot at 0x7f35b62b50d0>"
      ]
     },
     "execution_count": 14,
     "metadata": {},
     "output_type": "execute_result"
    }
   ],
   "source": [
    "t['Close'].plot(grid=True)"
   ]
  },
  {
   "cell_type": "code",
   "execution_count": 15,
   "metadata": {},
   "outputs": [
    {
     "data": {
      "image/png": "[encoded data removed]",
      "text/plain": [
       "<matplotlib.figure.Figure at 0x7f35bda55cd0>"
      ]
     },
     "metadata": {},
     "output_type": "display_data"
    }
   ],
   "source": [
    "plt.show()"
   ]
  },
  {
   "cell_type": "code",
   "execution_count": 16,
   "metadata": {
    "collapsed": true
   },
   "outputs": [],
   "source": [
    "import numpy as np"
   ]
  },
  {
   "cell_type": "code",
   "execution_count": 17,
   "metadata": {
    "collapsed": true
   },
   "outputs": [],
   "source": [
    "daily_close = t[['Adj Close']]"
   ]
  },
  {
   "cell_type": "code",
   "execution_count": 18,
   "metadata": {
    "collapsed": true
   },
   "outputs": [],
   "source": [
    "daily_pct_change = daily_close.pct_change()"
   ]
  },
  {
   "cell_type": "code",
   "execution_count": 19,
   "metadata": {
    "collapsed": true
   },
   "outputs": [],
   "source": [
    "daily_pct_change.fillna(0, inplace=True)"
   ]
  },
  {
   "cell_type": "code",
   "execution_count": 20,
   "metadata": {},
   "outputs": [
    {
     "name": "stdout",
     "output_type": "stream",
     "text": [
      "            Adj Close\n",
      "Date                 \n",
      "2006-10-09   0.000000\n",
      "2006-10-10  -0.014318\n",
      "2006-10-11   0.011172\n",
      "2006-10-12  -0.012152\n",
      "2006-10-13  -0.017899\n",
      "2006-10-16  -0.029614\n",
      "2006-10-17   0.036386\n",
      "2006-10-18   0.012460\n",
      "2006-10-19   0.006709\n",
      "2006-10-20  -0.004445\n",
      "2006-10-23  -0.024554\n",
      "2006-10-24   0.029750\n",
      "2006-10-25   0.006665\n",
      "2006-10-26  -0.004415\n",
      "2006-10-27   0.039912\n",
      "2006-10-30  -0.018120\n",
      "2006-10-31   0.013026\n",
      "2006-11-01  -0.009646\n",
      "2006-11-02  -0.004329\n",
      "2006-11-03   0.000000\n",
      "2006-11-06   0.034787\n",
      "2006-11-07   0.063024\n",
      "2006-11-08   0.018774\n",
      "2006-11-09   0.031038\n",
      "2006-11-10  -0.007527\n",
      "2006-11-13   0.023699\n",
      "2006-11-14   0.006483\n",
      "2006-11-15   0.025758\n",
      "2006-11-16  -0.002692\n",
      "2006-11-17   0.079138\n",
      "...               ...\n",
      "2017-07-11   0.038192\n",
      "2017-07-12  -0.029104\n",
      "2017-07-13   0.006954\n",
      "2017-07-14   0.004287\n",
      "2017-07-17  -0.012094\n",
      "2017-07-18  -0.015843\n",
      "2017-07-19   0.005366\n",
      "2017-07-20   0.024988\n",
      "2017-07-21  -0.008284\n",
      "2017-07-24   0.036277\n",
      "2017-07-25   0.000000\n",
      "2017-07-26  -0.024873\n",
      "2017-07-27  -0.026925\n",
      "2017-07-28   0.004854\n",
      "2017-07-31  -0.004831\n",
      "2017-08-01  -0.000243\n",
      "2017-08-02  -0.009468\n",
      "2017-08-03  -0.017647\n",
      "2017-08-04  -0.015719\n",
      "2017-08-07   0.021293\n",
      "2017-08-08  -0.007694\n",
      "2017-08-09   0.020510\n",
      "2017-08-10   0.001225\n",
      "2017-08-11  -0.029621\n",
      "2017-08-14   0.012109\n",
      "2017-08-15  -0.008724\n",
      "2017-08-16  -0.018104\n",
      "2017-08-17   0.006914\n",
      "2017-08-18  -0.004832\n",
      "2017-08-21   0.014822\n",
      "\n",
      "[2650 rows x 1 columns]\n"
     ]
    }
   ],
   "source": [
    "print(daily_pct_change)"
   ]
  },
  {
   "cell_type": "code",
   "execution_count": 21,
   "metadata": {
    "collapsed": true
   },
   "outputs": [],
   "source": [
    "daily_log_returns = np.log(daily_close.pct_change()+1)"
   ]
  },
  {
   "cell_type": "code",
   "execution_count": 22,
   "metadata": {},
   "outputs": [
    {
     "name": "stdout",
     "output_type": "stream",
     "text": [
      "            Adj Close\n",
      "Date                 \n",
      "2006-10-09        NaN\n",
      "2006-10-10  -0.014422\n",
      "2006-10-11   0.011110\n",
      "2006-10-12  -0.012226\n",
      "2006-10-13  -0.018061\n",
      "2006-10-16  -0.030061\n",
      "2006-10-17   0.035739\n",
      "2006-10-18   0.012383\n",
      "2006-10-19   0.006687\n",
      "2006-10-20  -0.004455\n",
      "2006-10-23  -0.024861\n",
      "2006-10-24   0.029316\n",
      "2006-10-25   0.006643\n",
      "2006-10-26  -0.004425\n",
      "2006-10-27   0.039136\n",
      "2006-10-30  -0.018287\n",
      "2006-10-31   0.012942\n",
      "2006-11-01  -0.009693\n",
      "2006-11-02  -0.004339\n",
      "2006-11-03   0.000000\n",
      "2006-11-06   0.034196\n",
      "2006-11-07   0.061117\n",
      "2006-11-08   0.018600\n",
      "2006-11-09   0.030566\n",
      "2006-11-10  -0.007555\n",
      "2006-11-13   0.023422\n",
      "2006-11-14   0.006462\n",
      "2006-11-15   0.025432\n",
      "2006-11-16  -0.002696\n",
      "2006-11-17   0.076163\n",
      "...               ...\n",
      "2017-07-11   0.037481\n",
      "2017-07-12  -0.029536\n",
      "2017-07-13   0.006930\n",
      "2017-07-14   0.004277\n",
      "2017-07-17  -0.012168\n",
      "2017-07-18  -0.015969\n",
      "2017-07-19   0.005352\n",
      "2017-07-20   0.024681\n",
      "2017-07-21  -0.008318\n",
      "2017-07-24   0.035634\n",
      "2017-07-25   0.000000\n",
      "2017-07-26  -0.025188\n",
      "2017-07-27  -0.027294\n",
      "2017-07-28   0.004843\n",
      "2017-07-31  -0.004843\n",
      "2017-08-01  -0.000243\n",
      "2017-08-02  -0.009513\n",
      "2017-08-03  -0.017805\n",
      "2017-08-04  -0.015843\n",
      "2017-08-07   0.021069\n",
      "2017-08-08  -0.007724\n",
      "2017-08-09   0.020303\n",
      "2017-08-10   0.001225\n",
      "2017-08-11  -0.030068\n",
      "2017-08-14   0.012036\n",
      "2017-08-15  -0.008762\n",
      "2017-08-16  -0.018270\n",
      "2017-08-17   0.006890\n",
      "2017-08-18  -0.004844\n",
      "2017-08-21   0.014714\n",
      "\n",
      "[2650 rows x 1 columns]\n"
     ]
    }
   ],
   "source": [
    "print(daily_log_returns)"
   ]
  },
  {
   "cell_type": "code",
   "execution_count": 23,
   "metadata": {},
   "outputs": [
    {
     "data": {
      "text/plain": [
       "array([[<matplotlib.axes._subplots.AxesSubplot object at 0x7f35b615c510>]], dtype=object)"
      ]
     },
     "execution_count": 23,
     "metadata": {},
     "output_type": "execute_result"
    }
   ],
   "source": [
    "daily_pct_change.hist(bins=50)"
   ]
  },
  {
   "cell_type": "code",
   "execution_count": 24,
   "metadata": {},
   "outputs": [
    {
     "data": {
      "image/png": "[encoded data removed]",
      "text/plain": [
       "<matplotlib.figure.Figure at 0x7f35b62cb250>"
      ]
     },
     "metadata": {},
     "output_type": "display_data"
    }
   ],
   "source": [
    "plt.show()"
   ]
  },
  {
   "cell_type": "code",
   "execution_count": 25,
   "metadata": {
    "collapsed": true
   },
   "outputs": [],
   "source": [
    "cum_daily_return = (1 + daily_pct_change).cumprod()"
   ]
  },
  {
   "cell_type": "code",
   "execution_count": 26,
   "metadata": {},
   "outputs": [
    {
     "name": "stdout",
     "output_type": "stream",
     "text": [
      "            Adj Close\n",
      "Date                 \n",
      "2006-10-09   1.000000\n",
      "2006-10-10   0.985682\n",
      "2006-10-11   0.996694\n",
      "2006-10-12   0.984582\n",
      "2006-10-13   0.966959\n",
      "2006-10-16   0.938323\n",
      "2006-10-17   0.972465\n",
      "2006-10-18   0.984582\n",
      "2006-10-19   0.991188\n",
      "2006-10-20   0.986782\n",
      "2006-10-23   0.962552\n",
      "2006-10-24   0.991188\n",
      "2006-10-25   0.997794\n",
      "2006-10-26   0.993389\n",
      "2006-10-27   1.033036\n",
      "2006-10-30   1.014317\n",
      "2006-10-31   1.027530\n",
      "2006-11-01   1.017618\n",
      "2006-11-02   1.013212\n",
      "2006-11-03   1.013212\n",
      "2006-11-06   1.048459\n",
      "2006-11-07   1.114537\n",
      "2006-11-08   1.135460\n",
      "2006-11-09   1.170702\n",
      "2006-11-10   1.161891\n",
      "2006-11-13   1.189426\n",
      "2006-11-14   1.197137\n",
      "2006-11-15   1.227974\n",
      "2006-11-16   1.224668\n",
      "2006-11-17   1.321586\n",
      "...               ...\n",
      "2017-07-11  29.428270\n",
      "2017-07-12  28.571801\n",
      "2017-07-13  28.770503\n",
      "2017-07-14  28.893831\n",
      "2017-07-17  28.544394\n",
      "2017-07-18  28.092178\n",
      "2017-07-19  28.242917\n",
      "2017-07-20  28.948647\n",
      "2017-07-21  28.708837\n",
      "2017-07-24  29.750300\n",
      "2017-07-25  29.750300\n",
      "2017-07-26  29.010313\n",
      "2017-07-27  28.229214\n",
      "2017-07-28  28.366249\n",
      "2017-07-31  28.229214\n",
      "2017-08-01  28.222361\n",
      "2017-08-02  27.955142\n",
      "2017-08-03  27.461818\n",
      "2017-08-04  27.030157\n",
      "2017-08-07  27.605704\n",
      "2017-08-08  27.393299\n",
      "2017-08-09  27.955142\n",
      "2017-08-10  27.989400\n",
      "2017-08-11  27.160339\n",
      "2017-08-14  27.489223\n",
      "2017-08-15  27.249413\n",
      "2017-08-16  26.756086\n",
      "2017-08-17  26.941084\n",
      "2017-08-18  26.810901\n",
      "2017-08-21  27.208301\n",
      "\n",
      "[2650 rows x 1 columns]\n"
     ]
    }
   ],
   "source": [
    "print(cum_daily_return)"
   ]
  },
  {
   "cell_type": "code",
   "execution_count": 27,
   "metadata": {},
   "outputs": [
    {
     "data": {
      "text/plain": [
       "<matplotlib.axes._subplots.AxesSubplot at 0x7f35b3fd5950>"
      ]
     },
     "execution_count": 27,
     "metadata": {},
     "output_type": "execute_result"
    }
   ],
   "source": [
    "cum_daily_return.plot(figsize=(12,8))"
   ]
  },
  {
   "cell_type": "code",
   "execution_count": 28,
   "metadata": {},
   "outputs": [
    {
     "data": {
      "image/png": "[encoded data removed]",
      "text/plain": [
       "<matplotlib.figure.Figure at 0x7f35b3fcda10>"
      ]
     },
     "metadata": {},
     "output_type": "display_data"
    }
   ],
   "source": [
    "plt.show()"
   ]
  },
  {
   "cell_type": "code",
   "execution_count": 29,
   "metadata": {
    "collapsed": true
   },
   "outputs": [],
   "source": [
    "cum_monthly_return = cum_daily_return.resample(\"M\").mean()"
   ]
  },
  {
   "cell_type": "code",
   "execution_count": 30,
   "metadata": {},
   "outputs": [
    {
     "name": "stdout",
     "output_type": "stream",
     "text": [
      "            Adj Close\n",
      "Date                 \n",
      "2006-10-31   0.989827\n",
      "2006-11-30   1.243140\n",
      "2006-12-31   1.359921\n",
      "2007-01-31   1.713599\n",
      "2007-02-28   2.323051\n",
      "2007-03-31   3.032235\n",
      "2007-04-30   3.526479\n",
      "2007-05-31   4.593607\n",
      "2007-06-30   7.411024\n",
      "2007-07-31   6.882217\n",
      "2007-08-31   7.510075\n",
      "2007-09-30   7.852060\n",
      "2007-10-31   8.436505\n",
      "2007-11-30   7.586475\n",
      "2007-12-31   7.924952\n",
      "2008-01-31   9.539630\n",
      "2008-02-29  10.324289\n",
      "2008-03-31   7.772443\n",
      "2008-04-30   6.894514\n",
      "2008-05-31   7.039708\n",
      "2008-06-30   5.004955\n",
      "2008-07-31   4.395678\n",
      "2008-08-31   3.290908\n",
      "2008-09-30   3.258803\n",
      "2008-10-31   2.893648\n",
      "2008-11-30   2.798909\n",
      "2008-12-31   3.198485\n",
      "2009-01-31   2.923949\n",
      "2009-02-28   3.693436\n",
      "2009-03-31   3.591623\n",
      "...               ...\n",
      "2015-03-31  12.803003\n",
      "2015-04-30  14.388114\n",
      "2015-05-31  15.476916\n",
      "2015-06-30  15.983103\n",
      "2015-07-31  14.795763\n",
      "2015-08-31  13.246849\n",
      "2015-09-30  11.302584\n",
      "2015-10-31  11.734793\n",
      "2015-11-30  12.310393\n",
      "2015-12-31  13.014493\n",
      "2016-01-31  12.136802\n",
      "2016-02-29  11.710381\n",
      "2016-03-31  12.692049\n",
      "2016-04-30  13.128850\n",
      "2016-05-31  14.200030\n",
      "2016-06-30  15.270652\n",
      "2016-07-31  17.651016\n",
      "2016-08-31  18.383220\n",
      "2016-09-30  17.675728\n",
      "2016-10-31  17.706853\n",
      "2016-11-30  18.588765\n",
      "2016-12-31  19.148310\n",
      "2017-01-31  19.348981\n",
      "2017-02-28  20.842884\n",
      "2017-03-31  22.330338\n",
      "2017-04-30  22.325690\n",
      "2017-05-31  24.118815\n",
      "2017-06-30  27.819042\n",
      "2017-07-31  28.766260\n",
      "2017-08-31  27.415225\n",
      "\n",
      "[131 rows x 1 columns]\n"
     ]
    }
   ],
   "source": [
    "print(cum_monthly_return)"
   ]
  },
  {
   "cell_type": "code",
   "execution_count": 33,
   "metadata": {},
   "outputs": [
    {
     "ename": "TypeError",
     "evalue": "float() argument must be a string or a number",
     "output_type": "error",
     "traceback": [
      "\u001b[0;31m---------------------------------------------------------------------------\u001b[0m",
      "\u001b[0;31mTypeError\u001b[0m                                 Traceback (most recent call last)",
      "\u001b[0;32m<ipython-input-33-0d67ad65bbba>\u001b[0m in \u001b[0;36m<module>\u001b[0;34m()\u001b[0m\n\u001b[0;32m----> 1\u001b[0;31m \u001b[0mcum_monthly_return\u001b[0m\u001b[0;34m.\u001b[0m\u001b[0mplot\u001b[0m\u001b[0;34m(\u001b[0m\u001b[0;34m)\u001b[0m\u001b[0;34m\u001b[0m\u001b[0m\n\u001b[0m",
      "\u001b[0;32m/usr/local/lib/python2.7/dist-packages/pandas/plotting/_core.pyc\u001b[0m in \u001b[0;36m__call__\u001b[0;34m(self, x, y, kind, ax, subplots, sharex, sharey, layout, figsize, use_index, title, grid, legend, style, logx, logy, loglog, xticks, yticks, xlim, ylim, rot, fontsize, colormap, table, yerr, xerr, secondary_y, sort_columns, **kwds)\u001b[0m\n\u001b[1;32m   2625\u001b[0m                           \u001b[0mfontsize\u001b[0m\u001b[0;34m=\u001b[0m\u001b[0mfontsize\u001b[0m\u001b[0;34m,\u001b[0m \u001b[0mcolormap\u001b[0m\u001b[0;34m=\u001b[0m\u001b[0mcolormap\u001b[0m\u001b[0;34m,\u001b[0m \u001b[0mtable\u001b[0m\u001b[0;34m=\u001b[0m\u001b[0mtable\u001b[0m\u001b[0;34m,\u001b[0m\u001b[0;34m\u001b[0m\u001b[0m\n\u001b[1;32m   2626\u001b[0m                           \u001b[0myerr\u001b[0m\u001b[0;34m=\u001b[0m\u001b[0myerr\u001b[0m\u001b[0;34m,\u001b[0m \u001b[0mxerr\u001b[0m\u001b[0;34m=\u001b[0m\u001b[0mxerr\u001b[0m\u001b[0;34m,\u001b[0m \u001b[0msecondary_y\u001b[0m\u001b[0;34m=\u001b[0m\u001b[0msecondary_y\u001b[0m\u001b[0;34m,\u001b[0m\u001b[0;34m\u001b[0m\u001b[0m\n\u001b[0;32m-> 2627\u001b[0;31m                           sort_columns=sort_columns, **kwds)\n\u001b[0m\u001b[1;32m   2628\u001b[0m     \u001b[0m__call__\u001b[0m\u001b[0;34m.\u001b[0m\u001b[0m__doc__\u001b[0m \u001b[0;34m=\u001b[0m \u001b[0mplot_frame\u001b[0m\u001b[0;34m.\u001b[0m\u001b[0m__doc__\u001b[0m\u001b[0;34m\u001b[0m\u001b[0m\n\u001b[1;32m   2629\u001b[0m \u001b[0;34m\u001b[0m\u001b[0m\n",
      "\u001b[0;32m/usr/local/lib/python2.7/dist-packages/pandas/plotting/_core.pyc\u001b[0m in \u001b[0;36mplot_frame\u001b[0;34m(data, x, y, kind, ax, subplots, sharex, sharey, layout, figsize, use_index, title, grid, legend, style, logx, logy, loglog, xticks, yticks, xlim, ylim, rot, fontsize, colormap, table, yerr, xerr, secondary_y, sort_columns, **kwds)\u001b[0m\n\u001b[1;32m   1867\u001b[0m                  \u001b[0myerr\u001b[0m\u001b[0;34m=\u001b[0m\u001b[0myerr\u001b[0m\u001b[0;34m,\u001b[0m \u001b[0mxerr\u001b[0m\u001b[0;34m=\u001b[0m\u001b[0mxerr\u001b[0m\u001b[0;34m,\u001b[0m\u001b[0;34m\u001b[0m\u001b[0m\n\u001b[1;32m   1868\u001b[0m                  \u001b[0msecondary_y\u001b[0m\u001b[0;34m=\u001b[0m\u001b[0msecondary_y\u001b[0m\u001b[0;34m,\u001b[0m \u001b[0msort_columns\u001b[0m\u001b[0;34m=\u001b[0m\u001b[0msort_columns\u001b[0m\u001b[0;34m,\u001b[0m\u001b[0;34m\u001b[0m\u001b[0m\n\u001b[0;32m-> 1869\u001b[0;31m                  **kwds)\n\u001b[0m\u001b[1;32m   1870\u001b[0m \u001b[0;34m\u001b[0m\u001b[0m\n\u001b[1;32m   1871\u001b[0m \u001b[0;34m\u001b[0m\u001b[0m\n",
      "\u001b[0;32m/usr/local/lib/python2.7/dist-packages/pandas/plotting/_core.pyc\u001b[0m in \u001b[0;36m_plot\u001b[0;34m(data, x, y, subplots, ax, kind, **kwds)\u001b[0m\n\u001b[1;32m   1692\u001b[0m         \u001b[0mplot_obj\u001b[0m \u001b[0;34m=\u001b[0m \u001b[0mklass\u001b[0m\u001b[0;34m(\u001b[0m\u001b[0mdata\u001b[0m\u001b[0;34m,\u001b[0m \u001b[0msubplots\u001b[0m\u001b[0;34m=\u001b[0m\u001b[0msubplots\u001b[0m\u001b[0;34m,\u001b[0m \u001b[0max\u001b[0m\u001b[0;34m=\u001b[0m\u001b[0max\u001b[0m\u001b[0;34m,\u001b[0m \u001b[0mkind\u001b[0m\u001b[0;34m=\u001b[0m\u001b[0mkind\u001b[0m\u001b[0;34m,\u001b[0m \u001b[0;34m**\u001b[0m\u001b[0mkwds\u001b[0m\u001b[0;34m)\u001b[0m\u001b[0;34m\u001b[0m\u001b[0m\n\u001b[1;32m   1693\u001b[0m \u001b[0;34m\u001b[0m\u001b[0m\n\u001b[0;32m-> 1694\u001b[0;31m     \u001b[0mplot_obj\u001b[0m\u001b[0;34m.\u001b[0m\u001b[0mgenerate\u001b[0m\u001b[0;34m(\u001b[0m\u001b[0;34m)\u001b[0m\u001b[0;34m\u001b[0m\u001b[0m\n\u001b[0m\u001b[1;32m   1695\u001b[0m     \u001b[0mplot_obj\u001b[0m\u001b[0;34m.\u001b[0m\u001b[0mdraw\u001b[0m\u001b[0;34m(\u001b[0m\u001b[0;34m)\u001b[0m\u001b[0;34m\u001b[0m\u001b[0m\n\u001b[1;32m   1696\u001b[0m     \u001b[0;32mreturn\u001b[0m \u001b[0mplot_obj\u001b[0m\u001b[0;34m.\u001b[0m\u001b[0mresult\u001b[0m\u001b[0;34m\u001b[0m\u001b[0m\n",
      "\u001b[0;32m/usr/local/lib/python2.7/dist-packages/pandas/plotting/_core.pyc\u001b[0m in \u001b[0;36mgenerate\u001b[0;34m(self)\u001b[0m\n\u001b[1;32m    243\u001b[0m         \u001b[0mself\u001b[0m\u001b[0;34m.\u001b[0m\u001b[0m_compute_plot_data\u001b[0m\u001b[0;34m(\u001b[0m\u001b[0;34m)\u001b[0m\u001b[0;34m\u001b[0m\u001b[0m\n\u001b[1;32m    244\u001b[0m         \u001b[0mself\u001b[0m\u001b[0;34m.\u001b[0m\u001b[0m_setup_subplots\u001b[0m\u001b[0;34m(\u001b[0m\u001b[0;34m)\u001b[0m\u001b[0;34m\u001b[0m\u001b[0m\n\u001b[0;32m--> 245\u001b[0;31m         \u001b[0mself\u001b[0m\u001b[0;34m.\u001b[0m\u001b[0m_make_plot\u001b[0m\u001b[0;34m(\u001b[0m\u001b[0;34m)\u001b[0m\u001b[0;34m\u001b[0m\u001b[0m\n\u001b[0m\u001b[1;32m    246\u001b[0m         \u001b[0mself\u001b[0m\u001b[0;34m.\u001b[0m\u001b[0m_add_table\u001b[0m\u001b[0;34m(\u001b[0m\u001b[0;34m)\u001b[0m\u001b[0;34m\u001b[0m\u001b[0m\n\u001b[1;32m    247\u001b[0m         \u001b[0mself\u001b[0m\u001b[0;34m.\u001b[0m\u001b[0m_make_legend\u001b[0m\u001b[0;34m(\u001b[0m\u001b[0;34m)\u001b[0m\u001b[0;34m\u001b[0m\u001b[0m\n",
      "\u001b[0;32m/usr/local/lib/python2.7/dist-packages/pandas/plotting/_core.pyc\u001b[0m in \u001b[0;36m_make_plot\u001b[0;34m(self)\u001b[0m\n\u001b[1;32m    948\u001b[0m                              \u001b[0mstacking_id\u001b[0m\u001b[0;34m=\u001b[0m\u001b[0mstacking_id\u001b[0m\u001b[0;34m,\u001b[0m\u001b[0;34m\u001b[0m\u001b[0m\n\u001b[1;32m    949\u001b[0m                              \u001b[0mis_errorbar\u001b[0m\u001b[0;34m=\u001b[0m\u001b[0mis_errorbar\u001b[0m\u001b[0;34m,\u001b[0m\u001b[0;34m\u001b[0m\u001b[0m\n\u001b[0;32m--> 950\u001b[0;31m                              **kwds)\n\u001b[0m\u001b[1;32m    951\u001b[0m             \u001b[0mself\u001b[0m\u001b[0;34m.\u001b[0m\u001b[0m_add_legend_handle\u001b[0m\u001b[0;34m(\u001b[0m\u001b[0mnewlines\u001b[0m\u001b[0;34m[\u001b[0m\u001b[0;36m0\u001b[0m\u001b[0;34m]\u001b[0m\u001b[0;34m,\u001b[0m \u001b[0mlabel\u001b[0m\u001b[0;34m,\u001b[0m \u001b[0mindex\u001b[0m\u001b[0;34m=\u001b[0m\u001b[0mi\u001b[0m\u001b[0;34m)\u001b[0m\u001b[0;34m\u001b[0m\u001b[0m\n\u001b[1;32m    952\u001b[0m \u001b[0;34m\u001b[0m\u001b[0m\n",
      "\u001b[0;32m/usr/local/lib/python2.7/dist-packages/pandas/plotting/_core.pyc\u001b[0m in \u001b[0;36m_ts_plot\u001b[0;34m(cls, ax, x, data, style, **kwds)\u001b[0m\n\u001b[1;32m    986\u001b[0m         \u001b[0max\u001b[0m\u001b[0;34m.\u001b[0m\u001b[0m_plot_data\u001b[0m\u001b[0;34m.\u001b[0m\u001b[0mappend\u001b[0m\u001b[0;34m(\u001b[0m\u001b[0;34m(\u001b[0m\u001b[0mdata\u001b[0m\u001b[0;34m,\u001b[0m \u001b[0mcls\u001b[0m\u001b[0;34m.\u001b[0m\u001b[0m_kind\u001b[0m\u001b[0;34m,\u001b[0m \u001b[0mkwds\u001b[0m\u001b[0;34m)\u001b[0m\u001b[0;34m)\u001b[0m\u001b[0;34m\u001b[0m\u001b[0m\n\u001b[1;32m    987\u001b[0m \u001b[0;34m\u001b[0m\u001b[0m\n\u001b[0;32m--> 988\u001b[0;31m         \u001b[0mlines\u001b[0m \u001b[0;34m=\u001b[0m \u001b[0mcls\u001b[0m\u001b[0;34m.\u001b[0m\u001b[0m_plot\u001b[0m\u001b[0;34m(\u001b[0m\u001b[0max\u001b[0m\u001b[0;34m,\u001b[0m \u001b[0mdata\u001b[0m\u001b[0;34m.\u001b[0m\u001b[0mindex\u001b[0m\u001b[0;34m,\u001b[0m \u001b[0mdata\u001b[0m\u001b[0;34m.\u001b[0m\u001b[0mvalues\u001b[0m\u001b[0;34m,\u001b[0m \u001b[0mstyle\u001b[0m\u001b[0;34m=\u001b[0m\u001b[0mstyle\u001b[0m\u001b[0;34m,\u001b[0m \u001b[0;34m**\u001b[0m\u001b[0mkwds\u001b[0m\u001b[0;34m)\u001b[0m\u001b[0;34m\u001b[0m\u001b[0m\n\u001b[0m\u001b[1;32m    989\u001b[0m         \u001b[0;31m# set date formatter, locators and rescale limits\u001b[0m\u001b[0;34m\u001b[0m\u001b[0;34m\u001b[0m\u001b[0m\n\u001b[1;32m    990\u001b[0m         \u001b[0mformat_dateaxis\u001b[0m\u001b[0;34m(\u001b[0m\u001b[0max\u001b[0m\u001b[0;34m,\u001b[0m \u001b[0max\u001b[0m\u001b[0;34m.\u001b[0m\u001b[0mfreq\u001b[0m\u001b[0;34m,\u001b[0m \u001b[0mdata\u001b[0m\u001b[0;34m.\u001b[0m\u001b[0mindex\u001b[0m\u001b[0;34m)\u001b[0m\u001b[0;34m\u001b[0m\u001b[0m\n",
      "\u001b[0;32m/usr/local/lib/python2.7/dist-packages/pandas/plotting/_core.pyc\u001b[0m in \u001b[0;36m_plot\u001b[0;34m(cls, ax, x, y, style, column_num, stacking_id, **kwds)\u001b[0m\n\u001b[1;32m    963\u001b[0m             \u001b[0mcls\u001b[0m\u001b[0;34m.\u001b[0m\u001b[0m_initialize_stacker\u001b[0m\u001b[0;34m(\u001b[0m\u001b[0max\u001b[0m\u001b[0;34m,\u001b[0m \u001b[0mstacking_id\u001b[0m\u001b[0;34m,\u001b[0m \u001b[0mlen\u001b[0m\u001b[0;34m(\u001b[0m\u001b[0my\u001b[0m\u001b[0;34m)\u001b[0m\u001b[0;34m)\u001b[0m\u001b[0;34m\u001b[0m\u001b[0m\n\u001b[1;32m    964\u001b[0m         \u001b[0my_values\u001b[0m \u001b[0;34m=\u001b[0m \u001b[0mcls\u001b[0m\u001b[0;34m.\u001b[0m\u001b[0m_get_stacked_values\u001b[0m\u001b[0;34m(\u001b[0m\u001b[0max\u001b[0m\u001b[0;34m,\u001b[0m \u001b[0mstacking_id\u001b[0m\u001b[0;34m,\u001b[0m \u001b[0my\u001b[0m\u001b[0;34m,\u001b[0m \u001b[0mkwds\u001b[0m\u001b[0;34m[\u001b[0m\u001b[0;34m'label'\u001b[0m\u001b[0;34m]\u001b[0m\u001b[0;34m)\u001b[0m\u001b[0;34m\u001b[0m\u001b[0m\n\u001b[0;32m--> 965\u001b[0;31m         \u001b[0mlines\u001b[0m \u001b[0;34m=\u001b[0m \u001b[0mMPLPlot\u001b[0m\u001b[0;34m.\u001b[0m\u001b[0m_plot\u001b[0m\u001b[0;34m(\u001b[0m\u001b[0max\u001b[0m\u001b[0;34m,\u001b[0m \u001b[0mx\u001b[0m\u001b[0;34m,\u001b[0m \u001b[0my_values\u001b[0m\u001b[0;34m,\u001b[0m \u001b[0mstyle\u001b[0m\u001b[0;34m=\u001b[0m\u001b[0mstyle\u001b[0m\u001b[0;34m,\u001b[0m \u001b[0;34m**\u001b[0m\u001b[0mkwds\u001b[0m\u001b[0;34m)\u001b[0m\u001b[0;34m\u001b[0m\u001b[0m\n\u001b[0m\u001b[1;32m    966\u001b[0m         \u001b[0mcls\u001b[0m\u001b[0;34m.\u001b[0m\u001b[0m_update_stacker\u001b[0m\u001b[0;34m(\u001b[0m\u001b[0max\u001b[0m\u001b[0;34m,\u001b[0m \u001b[0mstacking_id\u001b[0m\u001b[0;34m,\u001b[0m \u001b[0my\u001b[0m\u001b[0;34m)\u001b[0m\u001b[0;34m\u001b[0m\u001b[0m\n\u001b[1;32m    967\u001b[0m         \u001b[0;32mreturn\u001b[0m \u001b[0mlines\u001b[0m\u001b[0;34m\u001b[0m\u001b[0m\n",
      "\u001b[0;32m/usr/local/lib/python2.7/dist-packages/pandas/plotting/_core.pyc\u001b[0m in \u001b[0;36m_plot\u001b[0;34m(cls, ax, x, y, style, is_errorbar, **kwds)\u001b[0m\n\u001b[1;32m    578\u001b[0m             \u001b[0;32melse\u001b[0m\u001b[0;34m:\u001b[0m\u001b[0;34m\u001b[0m\u001b[0m\n\u001b[1;32m    579\u001b[0m                 \u001b[0margs\u001b[0m \u001b[0;34m=\u001b[0m \u001b[0;34m(\u001b[0m\u001b[0mx\u001b[0m\u001b[0;34m,\u001b[0m \u001b[0my\u001b[0m\u001b[0;34m)\u001b[0m\u001b[0;34m\u001b[0m\u001b[0m\n\u001b[0;32m--> 580\u001b[0;31m             \u001b[0;32mreturn\u001b[0m \u001b[0max\u001b[0m\u001b[0;34m.\u001b[0m\u001b[0mplot\u001b[0m\u001b[0;34m(\u001b[0m\u001b[0;34m*\u001b[0m\u001b[0margs\u001b[0m\u001b[0;34m,\u001b[0m \u001b[0;34m**\u001b[0m\u001b[0mkwds\u001b[0m\u001b[0;34m)\u001b[0m\u001b[0;34m\u001b[0m\u001b[0m\n\u001b[0m\u001b[1;32m    581\u001b[0m \u001b[0;34m\u001b[0m\u001b[0m\n\u001b[1;32m    582\u001b[0m     \u001b[0;32mdef\u001b[0m \u001b[0m_get_index_name\u001b[0m\u001b[0;34m(\u001b[0m\u001b[0mself\u001b[0m\u001b[0;34m)\u001b[0m\u001b[0;34m:\u001b[0m\u001b[0;34m\u001b[0m\u001b[0m\n",
      "\u001b[0;32m/usr/local/lib/python2.7/dist-packages/matplotlib/__init__.pyc\u001b[0m in \u001b[0;36minner\u001b[0;34m(ax, *args, **kwargs)\u001b[0m\n\u001b[1;32m   1896\u001b[0m                     warnings.warn(msg % (label_namer, func.__name__),\n\u001b[1;32m   1897\u001b[0m                                   RuntimeWarning, stacklevel=2)\n\u001b[0;32m-> 1898\u001b[0;31m             \u001b[0;32mreturn\u001b[0m \u001b[0mfunc\u001b[0m\u001b[0;34m(\u001b[0m\u001b[0max\u001b[0m\u001b[0;34m,\u001b[0m \u001b[0;34m*\u001b[0m\u001b[0margs\u001b[0m\u001b[0;34m,\u001b[0m \u001b[0;34m**\u001b[0m\u001b[0mkwargs\u001b[0m\u001b[0;34m)\u001b[0m\u001b[0;34m\u001b[0m\u001b[0m\n\u001b[0m\u001b[1;32m   1899\u001b[0m         \u001b[0mpre_doc\u001b[0m \u001b[0;34m=\u001b[0m \u001b[0minner\u001b[0m\u001b[0;34m.\u001b[0m\u001b[0m__doc__\u001b[0m\u001b[0;34m\u001b[0m\u001b[0m\n\u001b[1;32m   1900\u001b[0m         \u001b[0;32mif\u001b[0m \u001b[0mpre_doc\u001b[0m \u001b[0;32mis\u001b[0m \u001b[0mNone\u001b[0m\u001b[0;34m:\u001b[0m\u001b[0;34m\u001b[0m\u001b[0m\n",
      "\u001b[0;32m/usr/local/lib/python2.7/dist-packages/matplotlib/axes/_axes.pyc\u001b[0m in \u001b[0;36mplot\u001b[0;34m(self, *args, **kwargs)\u001b[0m\n\u001b[1;32m   1405\u001b[0m \u001b[0;34m\u001b[0m\u001b[0m\n\u001b[1;32m   1406\u001b[0m         \u001b[0;32mfor\u001b[0m \u001b[0mline\u001b[0m \u001b[0;32min\u001b[0m \u001b[0mself\u001b[0m\u001b[0;34m.\u001b[0m\u001b[0m_get_lines\u001b[0m\u001b[0;34m(\u001b[0m\u001b[0;34m*\u001b[0m\u001b[0margs\u001b[0m\u001b[0;34m,\u001b[0m \u001b[0;34m**\u001b[0m\u001b[0mkwargs\u001b[0m\u001b[0;34m)\u001b[0m\u001b[0;34m:\u001b[0m\u001b[0;34m\u001b[0m\u001b[0m\n\u001b[0;32m-> 1407\u001b[0;31m             \u001b[0mself\u001b[0m\u001b[0;34m.\u001b[0m\u001b[0madd_line\u001b[0m\u001b[0;34m(\u001b[0m\u001b[0mline\u001b[0m\u001b[0;34m)\u001b[0m\u001b[0;34m\u001b[0m\u001b[0m\n\u001b[0m\u001b[1;32m   1408\u001b[0m             \u001b[0mlines\u001b[0m\u001b[0;34m.\u001b[0m\u001b[0mappend\u001b[0m\u001b[0;34m(\u001b[0m\u001b[0mline\u001b[0m\u001b[0;34m)\u001b[0m\u001b[0;34m\u001b[0m\u001b[0m\n\u001b[1;32m   1409\u001b[0m \u001b[0;34m\u001b[0m\u001b[0m\n",
      "\u001b[0;32m/usr/local/lib/python2.7/dist-packages/matplotlib/axes/_base.pyc\u001b[0m in \u001b[0;36madd_line\u001b[0;34m(self, line)\u001b[0m\n\u001b[1;32m   1791\u001b[0m             \u001b[0mline\u001b[0m\u001b[0;34m.\u001b[0m\u001b[0mset_clip_path\u001b[0m\u001b[0;34m(\u001b[0m\u001b[0mself\u001b[0m\u001b[0;34m.\u001b[0m\u001b[0mpatch\u001b[0m\u001b[0;34m)\u001b[0m\u001b[0;34m\u001b[0m\u001b[0m\n\u001b[1;32m   1792\u001b[0m \u001b[0;34m\u001b[0m\u001b[0m\n\u001b[0;32m-> 1793\u001b[0;31m         \u001b[0mself\u001b[0m\u001b[0;34m.\u001b[0m\u001b[0m_update_line_limits\u001b[0m\u001b[0;34m(\u001b[0m\u001b[0mline\u001b[0m\u001b[0;34m)\u001b[0m\u001b[0;34m\u001b[0m\u001b[0m\n\u001b[0m\u001b[1;32m   1794\u001b[0m         \u001b[0;32mif\u001b[0m \u001b[0;32mnot\u001b[0m \u001b[0mline\u001b[0m\u001b[0;34m.\u001b[0m\u001b[0mget_label\u001b[0m\u001b[0;34m(\u001b[0m\u001b[0;34m)\u001b[0m\u001b[0;34m:\u001b[0m\u001b[0;34m\u001b[0m\u001b[0m\n\u001b[1;32m   1795\u001b[0m             \u001b[0mline\u001b[0m\u001b[0;34m.\u001b[0m\u001b[0mset_label\u001b[0m\u001b[0;34m(\u001b[0m\u001b[0;34m'_line%d'\u001b[0m \u001b[0;34m%\u001b[0m \u001b[0mlen\u001b[0m\u001b[0;34m(\u001b[0m\u001b[0mself\u001b[0m\u001b[0;34m.\u001b[0m\u001b[0mlines\u001b[0m\u001b[0;34m)\u001b[0m\u001b[0;34m)\u001b[0m\u001b[0;34m\u001b[0m\u001b[0m\n",
      "\u001b[0;32m/usr/local/lib/python2.7/dist-packages/matplotlib/axes/_base.pyc\u001b[0m in \u001b[0;36m_update_line_limits\u001b[0;34m(self, line)\u001b[0m\n\u001b[1;32m   1813\u001b[0m         \u001b[0mFigures\u001b[0m \u001b[0mout\u001b[0m \u001b[0mthe\u001b[0m \u001b[0mdata\u001b[0m \u001b[0mlimit\u001b[0m \u001b[0mof\u001b[0m \u001b[0mthe\u001b[0m \u001b[0mgiven\u001b[0m \u001b[0mline\u001b[0m\u001b[0;34m,\u001b[0m \u001b[0mupdating\u001b[0m \u001b[0mself\u001b[0m\u001b[0;34m.\u001b[0m\u001b[0mdataLim\u001b[0m\u001b[0;34m.\u001b[0m\u001b[0;34m\u001b[0m\u001b[0m\n\u001b[1;32m   1814\u001b[0m         \"\"\"\n\u001b[0;32m-> 1815\u001b[0;31m         \u001b[0mpath\u001b[0m \u001b[0;34m=\u001b[0m \u001b[0mline\u001b[0m\u001b[0;34m.\u001b[0m\u001b[0mget_path\u001b[0m\u001b[0;34m(\u001b[0m\u001b[0;34m)\u001b[0m\u001b[0;34m\u001b[0m\u001b[0m\n\u001b[0m\u001b[1;32m   1816\u001b[0m         \u001b[0;32mif\u001b[0m \u001b[0mpath\u001b[0m\u001b[0;34m.\u001b[0m\u001b[0mvertices\u001b[0m\u001b[0;34m.\u001b[0m\u001b[0msize\u001b[0m \u001b[0;34m==\u001b[0m \u001b[0;36m0\u001b[0m\u001b[0;34m:\u001b[0m\u001b[0;34m\u001b[0m\u001b[0m\n\u001b[1;32m   1817\u001b[0m             \u001b[0;32mreturn\u001b[0m\u001b[0;34m\u001b[0m\u001b[0m\n",
      "\u001b[0;32m/usr/local/lib/python2.7/dist-packages/matplotlib/lines.pyc\u001b[0m in \u001b[0;36mget_path\u001b[0;34m(self)\u001b[0m\n\u001b[1;32m    987\u001b[0m         \"\"\"\n\u001b[1;32m    988\u001b[0m         \u001b[0;32mif\u001b[0m \u001b[0mself\u001b[0m\u001b[0;34m.\u001b[0m\u001b[0m_invalidy\u001b[0m \u001b[0;32mor\u001b[0m \u001b[0mself\u001b[0m\u001b[0;34m.\u001b[0m\u001b[0m_invalidx\u001b[0m\u001b[0;34m:\u001b[0m\u001b[0;34m\u001b[0m\u001b[0m\n\u001b[0;32m--> 989\u001b[0;31m             \u001b[0mself\u001b[0m\u001b[0;34m.\u001b[0m\u001b[0mrecache\u001b[0m\u001b[0;34m(\u001b[0m\u001b[0;34m)\u001b[0m\u001b[0;34m\u001b[0m\u001b[0m\n\u001b[0m\u001b[1;32m    990\u001b[0m         \u001b[0;32mreturn\u001b[0m \u001b[0mself\u001b[0m\u001b[0;34m.\u001b[0m\u001b[0m_path\u001b[0m\u001b[0;34m\u001b[0m\u001b[0m\n\u001b[1;32m    991\u001b[0m \u001b[0;34m\u001b[0m\u001b[0m\n",
      "\u001b[0;32m/usr/local/lib/python2.7/dist-packages/matplotlib/lines.pyc\u001b[0m in \u001b[0;36mrecache\u001b[0;34m(self, always)\u001b[0m\n\u001b[1;32m    674\u001b[0m                 \u001b[0mx\u001b[0m \u001b[0;34m=\u001b[0m \u001b[0mma\u001b[0m\u001b[0;34m.\u001b[0m\u001b[0masarray\u001b[0m\u001b[0;34m(\u001b[0m\u001b[0mxconv\u001b[0m\u001b[0;34m,\u001b[0m \u001b[0mnp\u001b[0m\u001b[0;34m.\u001b[0m\u001b[0mfloat_\u001b[0m\u001b[0;34m)\u001b[0m\u001b[0;34m.\u001b[0m\u001b[0mfilled\u001b[0m\u001b[0;34m(\u001b[0m\u001b[0mnp\u001b[0m\u001b[0;34m.\u001b[0m\u001b[0mnan\u001b[0m\u001b[0;34m)\u001b[0m\u001b[0;34m\u001b[0m\u001b[0m\n\u001b[1;32m    675\u001b[0m             \u001b[0;32melse\u001b[0m\u001b[0;34m:\u001b[0m\u001b[0;34m\u001b[0m\u001b[0m\n\u001b[0;32m--> 676\u001b[0;31m                 \u001b[0mx\u001b[0m \u001b[0;34m=\u001b[0m \u001b[0mnp\u001b[0m\u001b[0;34m.\u001b[0m\u001b[0masarray\u001b[0m\u001b[0;34m(\u001b[0m\u001b[0mxconv\u001b[0m\u001b[0;34m,\u001b[0m \u001b[0mnp\u001b[0m\u001b[0;34m.\u001b[0m\u001b[0mfloat_\u001b[0m\u001b[0;34m)\u001b[0m\u001b[0;34m\u001b[0m\u001b[0m\n\u001b[0m\u001b[1;32m    677\u001b[0m             \u001b[0mx\u001b[0m \u001b[0;34m=\u001b[0m \u001b[0mx\u001b[0m\u001b[0;34m.\u001b[0m\u001b[0mravel\u001b[0m\u001b[0;34m(\u001b[0m\u001b[0;34m)\u001b[0m\u001b[0;34m\u001b[0m\u001b[0m\n\u001b[1;32m    678\u001b[0m         \u001b[0;32melse\u001b[0m\u001b[0;34m:\u001b[0m\u001b[0;34m\u001b[0m\u001b[0m\n",
      "\u001b[0;32m/usr/local/lib/python2.7/dist-packages/numpy/core/numeric.pyc\u001b[0m in \u001b[0;36masarray\u001b[0;34m(a, dtype, order)\u001b[0m\n\u001b[1;32m    529\u001b[0m \u001b[0;34m\u001b[0m\u001b[0m\n\u001b[1;32m    530\u001b[0m     \"\"\"\n\u001b[0;32m--> 531\u001b[0;31m     \u001b[0;32mreturn\u001b[0m \u001b[0marray\u001b[0m\u001b[0;34m(\u001b[0m\u001b[0ma\u001b[0m\u001b[0;34m,\u001b[0m \u001b[0mdtype\u001b[0m\u001b[0;34m,\u001b[0m \u001b[0mcopy\u001b[0m\u001b[0;34m=\u001b[0m\u001b[0mFalse\u001b[0m\u001b[0;34m,\u001b[0m \u001b[0morder\u001b[0m\u001b[0;34m=\u001b[0m\u001b[0morder\u001b[0m\u001b[0;34m)\u001b[0m\u001b[0;34m\u001b[0m\u001b[0m\n\u001b[0m\u001b[1;32m    532\u001b[0m \u001b[0;34m\u001b[0m\u001b[0m\n\u001b[1;32m    533\u001b[0m \u001b[0;34m\u001b[0m\u001b[0m\n",
      "\u001b[0;31mTypeError\u001b[0m: float() argument must be a string or a number"
     ]
    }
   ],
   "source": [
    "cum_monthly_return.plot()"
   ]
  },
  {
   "cell_type": "code",
   "execution_count": 34,
   "metadata": {
    "collapsed": true
   },
   "outputs": [],
   "source": [
    "daily_volume = t[['Volume']]"
   ]
  },
  {
   "cell_type": "code",
   "execution_count": 36,
   "metadata": {},
   "outputs": [
    {
     "data": {
      "text/plain": [
       "<matplotlib.axes._subplots.AxesSubplot at 0x7f35b3992590>"
      ]
     },
     "execution_count": 36,
     "metadata": {},
     "output_type": "execute_result"
    }
   ],
   "source": [
    "daily_volume.plot(kind='bar')"
   ]
  },
  {
   "cell_type": "code",
   "execution_count": 38,
   "metadata": {},
   "outputs": [
    {
     "name": "stdout",
     "output_type": "stream",
     "text": [
      "                Volume\n",
      "Date                  \n",
      "2006-10-09   9730048.0\n",
      "2006-10-10  13840772.0\n",
      "2006-10-11   7417890.0\n",
      "2006-10-12   4170537.0\n",
      "2006-10-13   4711635.0\n",
      "2006-10-16   8988066.0\n",
      "2006-10-17   4639622.0\n",
      "2006-10-18   5822294.0\n",
      "2006-10-19   5977912.0\n",
      "2006-10-20   3340872.0\n",
      "2006-10-23   3555639.0\n",
      "2006-10-24   4485186.0\n",
      "2006-10-25   9205785.0\n",
      "2006-10-26   5790694.0\n",
      "2006-10-27  26016980.0\n",
      "2006-10-30  10699767.0\n",
      "2006-10-31   7459628.0\n",
      "2006-11-01   3656745.0\n",
      "2006-11-02   5634410.0\n",
      "2006-11-03         0.0\n",
      "2006-11-06  15347610.0\n",
      "2006-11-07  33889036.0\n",
      "2006-11-08  28144714.0\n",
      "2006-11-09  24487780.0\n",
      "2006-11-10  21160886.0\n",
      "2006-11-13  22630450.0\n",
      "2006-11-14  13523571.0\n",
      "2006-11-15  16478064.0\n",
      "2006-11-16  16356771.0\n",
      "2006-11-17  28054125.0\n",
      "...                ...\n",
      "2017-07-11  68685309.0\n",
      "2017-07-12  42562092.0\n",
      "2017-07-13  27696758.0\n",
      "2017-07-14  23161858.0\n",
      "2017-07-17  46048766.0\n",
      "2017-07-18  37581523.0\n",
      "2017-07-19  31519178.0\n",
      "2017-07-20  46636660.0\n",
      "2017-07-21  29503966.0\n",
      "2017-07-24  60522159.0\n",
      "2017-07-25  32736712.0\n",
      "2017-07-26  38917650.0\n",
      "2017-07-27  41800681.0\n",
      "2017-07-28  24093240.0\n",
      "2017-07-31  33013694.0\n",
      "2017-08-01  34303389.0\n",
      "2017-08-02  25701585.0\n",
      "2017-08-03  35773018.0\n",
      "2017-08-04  30704481.0\n",
      "2017-08-07  42068653.0\n",
      "2017-08-08  21244041.0\n",
      "2017-08-09  29355858.0\n",
      "2017-08-10  22906180.0\n",
      "2017-08-11  23561244.0\n",
      "2017-08-14  21084953.0\n",
      "2017-08-15  24780374.0\n",
      "2017-08-16  31826165.0\n",
      "2017-08-17  26038664.0\n",
      "2017-08-18  17084395.0\n",
      "2017-08-21  22168379.0\n",
      "\n",
      "[2650 rows x 1 columns]\n"
     ]
    }
   ],
   "source": [
    "print(daily_volume)"
   ]
  },
  {
   "cell_type": "code",
   "execution_count": 39,
   "metadata": {},
   "outputs": [
    {
     "data": {
      "text/html": [
       "<div>\n",
       "<style>\n",
       "    .dataframe thead tr:only-child th {\n",
       "        text-align: right;\n",
       "    }\n",
       "\n",
       "    .dataframe thead th {\n",
       "        text-align: left;\n",
       "    }\n",
       "\n",
       "    .dataframe tbody tr th {\n",
       "        vertical-align: top;\n",
       "    }\n",
       "</style>\n",
       "<table border=\"1\" class=\"dataframe\">\n",
       "  <thead>\n",
       "    <tr style=\"text-align: right;\">\n",
       "      <th></th>\n",
       "      <th>Open</th>\n",
       "      <th>High</th>\n",
       "      <th>Low</th>\n",
       "      <th>Close</th>\n",
       "      <th>Adj Close</th>\n",
       "      <th>Volume</th>\n",
       "    </tr>\n",
       "    <tr>\n",
       "      <th>Date</th>\n",
       "      <th></th>\n",
       "      <th></th>\n",
       "      <th></th>\n",
       "      <th></th>\n",
       "      <th></th>\n",
       "      <th></th>\n",
       "    </tr>\n",
       "  </thead>\n",
       "  <tbody>\n",
       "    <tr>\n",
       "      <th>2006-10-09</th>\n",
       "      <td>1.99556</td>\n",
       "      <td>2.01778</td>\n",
       "      <td>1.99111</td>\n",
       "      <td>2.01778</td>\n",
       "      <td>1.459481</td>\n",
       "      <td>9730048.0</td>\n",
       "    </tr>\n",
       "    <tr>\n",
       "      <th>2006-10-10</th>\n",
       "      <td>2.02000</td>\n",
       "      <td>2.02000</td>\n",
       "      <td>1.97778</td>\n",
       "      <td>1.98889</td>\n",
       "      <td>1.438584</td>\n",
       "      <td>13840772.0</td>\n",
       "    </tr>\n",
       "    <tr>\n",
       "      <th>2006-10-11</th>\n",
       "      <td>1.98444</td>\n",
       "      <td>2.02222</td>\n",
       "      <td>1.95333</td>\n",
       "      <td>2.01111</td>\n",
       "      <td>1.454656</td>\n",
       "      <td>7417890.0</td>\n",
       "    </tr>\n",
       "    <tr>\n",
       "      <th>2006-10-12</th>\n",
       "      <td>2.00000</td>\n",
       "      <td>2.02000</td>\n",
       "      <td>1.98444</td>\n",
       "      <td>1.98667</td>\n",
       "      <td>1.436979</td>\n",
       "      <td>4170537.0</td>\n",
       "    </tr>\n",
       "    <tr>\n",
       "      <th>2006-10-13</th>\n",
       "      <td>1.97778</td>\n",
       "      <td>2.00000</td>\n",
       "      <td>1.95111</td>\n",
       "      <td>1.95111</td>\n",
       "      <td>1.411258</td>\n",
       "      <td>4711635.0</td>\n",
       "    </tr>\n",
       "  </tbody>\n",
       "</table>\n",
       "</div>"
      ],
      "text/plain": [
       "               Open     High      Low    Close  Adj Close      Volume\n",
       "Date                                                                 \n",
       "2006-10-09  1.99556  2.01778  1.99111  2.01778   1.459481   9730048.0\n",
       "2006-10-10  2.02000  2.02000  1.97778  1.98889   1.438584  13840772.0\n",
       "2006-10-11  1.98444  2.02222  1.95333  2.01111   1.454656   7417890.0\n",
       "2006-10-12  2.00000  2.02000  1.98444  1.98667   1.436979   4170537.0\n",
       "2006-10-13  1.97778  2.00000  1.95111  1.95111   1.411258   4711635.0"
      ]
     },
     "execution_count": 39,
     "metadata": {},
     "output_type": "execute_result"
    }
   ],
   "source": [
    "t.head()"
   ]
  },
  {
   "cell_type": "code",
   "execution_count": 40,
   "metadata": {
    "collapsed": true
   },
   "outputs": [],
   "source": [
    "daily_volume = t[['Volume']]"
   ]
  },
  {
   "cell_type": "code",
   "execution_count": 41,
   "metadata": {},
   "outputs": [
    {
     "data": {
      "text/html": [
       "<div>\n",
       "<style>\n",
       "    .dataframe thead tr:only-child th {\n",
       "        text-align: right;\n",
       "    }\n",
       "\n",
       "    .dataframe thead th {\n",
       "        text-align: left;\n",
       "    }\n",
       "\n",
       "    .dataframe tbody tr th {\n",
       "        vertical-align: top;\n",
       "    }\n",
       "</style>\n",
       "<table border=\"1\" class=\"dataframe\">\n",
       "  <thead>\n",
       "    <tr style=\"text-align: right;\">\n",
       "      <th></th>\n",
       "      <th>Volume</th>\n",
       "    </tr>\n",
       "    <tr>\n",
       "      <th>Date</th>\n",
       "      <th></th>\n",
       "    </tr>\n",
       "  </thead>\n",
       "  <tbody>\n",
       "    <tr>\n",
       "      <th>2006-10-09</th>\n",
       "      <td>9730048.0</td>\n",
       "    </tr>\n",
       "    <tr>\n",
       "      <th>2006-10-10</th>\n",
       "      <td>13840772.0</td>\n",
       "    </tr>\n",
       "    <tr>\n",
       "      <th>2006-10-11</th>\n",
       "      <td>7417890.0</td>\n",
       "    </tr>\n",
       "    <tr>\n",
       "      <th>2006-10-12</th>\n",
       "      <td>4170537.0</td>\n",
       "    </tr>\n",
       "    <tr>\n",
       "      <th>2006-10-13</th>\n",
       "      <td>4711635.0</td>\n",
       "    </tr>\n",
       "  </tbody>\n",
       "</table>\n",
       "</div>"
      ],
      "text/plain": [
       "                Volume\n",
       "Date                  \n",
       "2006-10-09   9730048.0\n",
       "2006-10-10  13840772.0\n",
       "2006-10-11   7417890.0\n",
       "2006-10-12   4170537.0\n",
       "2006-10-13   4711635.0"
      ]
     },
     "execution_count": 41,
     "metadata": {},
     "output_type": "execute_result"
    }
   ],
   "source": [
    "daily_volume.head()"
   ]
  },
  {
   "cell_type": "code",
   "execution_count": 42,
   "metadata": {},
   "outputs": [
    {
     "data": {
      "text/plain": [
       "<matplotlib.axes._subplots.AxesSubplot at 0x7f35b3953b90>"
      ]
     },
     "execution_count": 42,
     "metadata": {},
     "output_type": "execute_result"
    }
   ],
   "source": [
    "daily_volume.plot(kind='bar')"
   ]
  },
  {
   "cell_type": "code",
   "execution_count": 43,
   "metadata": {},
   "outputs": [
    {
     "data": {
      "image/png": "[encoded data removed]",
      "text/plain": [
       "<matplotlib.figure.Figure at 0x7f35b390b190>"
      ]
     },
     "metadata": {},
     "output_type": "display_data"
    }
   ],
   "source": [
    "plt.show()"
   ]
  },
  {
   "cell_type": "code",
   "execution_count": 47,
   "metadata": {
    "collapsed": true
   },
   "outputs": [],
   "source": [
    "monthly_volume = daily_volume.resample('W').mean()"
   ]
  },
  {
   "cell_type": "code",
   "execution_count": 48,
   "metadata": {},
   "outputs": [
    {
     "data": {
      "text/html": [
       "<div>\n",
       "<style>\n",
       "    .dataframe thead tr:only-child th {\n",
       "        text-align: right;\n",
       "    }\n",
       "\n",
       "    .dataframe thead th {\n",
       "        text-align: left;\n",
       "    }\n",
       "\n",
       "    .dataframe tbody tr th {\n",
       "        vertical-align: top;\n",
       "    }\n",
       "</style>\n",
       "<table border=\"1\" class=\"dataframe\">\n",
       "  <thead>\n",
       "    <tr style=\"text-align: right;\">\n",
       "      <th></th>\n",
       "      <th>Volume</th>\n",
       "    </tr>\n",
       "    <tr>\n",
       "      <th>Date</th>\n",
       "      <th></th>\n",
       "    </tr>\n",
       "  </thead>\n",
       "  <tbody>\n",
       "    <tr>\n",
       "      <th>2006-10-15</th>\n",
       "      <td>7974176.4</td>\n",
       "    </tr>\n",
       "    <tr>\n",
       "      <th>2006-10-22</th>\n",
       "      <td>5753753.2</td>\n",
       "    </tr>\n",
       "    <tr>\n",
       "      <th>2006-10-29</th>\n",
       "      <td>9810856.8</td>\n",
       "    </tr>\n",
       "    <tr>\n",
       "      <th>2006-11-05</th>\n",
       "      <td>5490110.0</td>\n",
       "    </tr>\n",
       "    <tr>\n",
       "      <th>2006-11-12</th>\n",
       "      <td>24606005.2</td>\n",
       "    </tr>\n",
       "  </tbody>\n",
       "</table>\n",
       "</div>"
      ],
      "text/plain": [
       "                Volume\n",
       "Date                  \n",
       "2006-10-15   7974176.4\n",
       "2006-10-22   5753753.2\n",
       "2006-10-29   9810856.8\n",
       "2006-11-05   5490110.0\n",
       "2006-11-12  24606005.2"
      ]
     },
     "execution_count": 48,
     "metadata": {},
     "output_type": "execute_result"
    }
   ],
   "source": [
    "monthly_volume.head()"
   ]
  },
  {
   "cell_type": "code",
   "execution_count": 49,
   "metadata": {},
   "outputs": [
    {
     "data": {
      "text/plain": [
       "<matplotlib.axes._subplots.AxesSubplot at 0x7f35b398e1d0>"
      ]
     },
     "execution_count": 49,
     "metadata": {},
     "output_type": "execute_result"
    }
   ],
   "source": [
    "monthly_volume.plot(kind='bar')"
   ]
  },
  {
   "cell_type": "code",
   "execution_count": 50,
   "metadata": {},
   "outputs": [
    {
     "data": {
      "image/png": "[encoded data removed]",
      "text/plain": [
       "<matplotlib.figure.Figure at 0x7f35b339d0d0>"
      ]
     },
     "metadata": {},
     "output_type": "display_data"
    }
   ],
   "source": [
    "plt.show()"
   ]
  },
  {
   "cell_type": "code",
   "execution_count": 51,
   "metadata": {
    "collapsed": true
   },
   "outputs": [],
   "source": [
    "monthly_volume = daily_volume.resample('BM').mean()"
   ]
  },
  {
   "cell_type": "code",
   "execution_count": 52,
   "metadata": {},
   "outputs": [
    {
     "data": {
      "text/plain": [
       "<matplotlib.axes._subplots.AxesSubplot at 0x7f35ae8dde10>"
      ]
     },
     "execution_count": 52,
     "metadata": {},
     "output_type": "execute_result"
    }
   ],
   "source": [
    "monthly_volume.plot(kind='bar')"
   ]
  },
  {
   "cell_type": "code",
   "execution_count": 53,
   "metadata": {},
   "outputs": [
    {
     "data": {
      "image/png": "[encoded data removed]",
      "text/plain": [
       "<matplotlib.figure.Figure at 0x7f35b33dbed0>"
      ]
     },
     "metadata": {},
     "output_type": "display_data"
    }
   ],
   "source": [
    "plt.show()"
   ]
  },
  {
   "cell_type": "code",
   "execution_count": 54,
   "metadata": {},
   "outputs": [
    {
     "data": {
      "text/plain": [
       "array([[<matplotlib.axes._subplots.AxesSubplot object at 0x7f35a591db90>]], dtype=object)"
      ]
     },
     "execution_count": 54,
     "metadata": {},
     "output_type": "execute_result"
    }
   ],
   "source": [
    "monthly_volume.hist()"
   ]
  },
  {
   "cell_type": "code",
   "execution_count": 55,
   "metadata": {},
   "outputs": [
    {
     "data": {
      "image/png": "[encoded data removed]",
      "text/plain": [
       "<matplotlib.figure.Figure at 0x7f35a54c56d0>"
      ]
     },
     "metadata": {},
     "output_type": "display_data"
    }
   ],
   "source": [
    "plt.show()"
   ]
  },
  {
   "cell_type": "code",
   "execution_count": 57,
   "metadata": {},
   "outputs": [
    {
     "data": {
      "text/plain": [
       "array([[<matplotlib.axes._subplots.AxesSubplot object at 0x7f35a53dfed0>]], dtype=object)"
      ]
     },
     "execution_count": 57,
     "metadata": {},
     "output_type": "execute_result"
    }
   ],
   "source": [
    "monthly_volume.hist(bins=20, sharex=True, figsize=(12,8))"
   ]
  },
  {
   "cell_type": "code",
   "execution_count": 58,
   "metadata": {},
   "outputs": [
    {
     "data": {
      "image/png": "[encoded data removed]",
      "text/plain": [
       "<matplotlib.figure.Figure at 0x7f35addabc50>"
      ]
     },
     "metadata": {},
     "output_type": "display_data"
    }
   ],
   "source": [
    "plt.show()"
   ]
  },
  {
   "cell_type": "code",
   "execution_count": 59,
   "metadata": {},
   "outputs": [
    {
     "data": {
      "text/plain": [
       "array([[<matplotlib.axes._subplots.AxesSubplot object at 0x7f35a5130e90>]], dtype=object)"
      ]
     },
     "execution_count": 59,
     "metadata": {},
     "output_type": "execute_result"
    }
   ],
   "source": [
    "daily_volume.hist(bins=20, sharex=True, figsize=(12,8))"
   ]
  },
  {
   "cell_type": "code",
   "execution_count": 60,
   "metadata": {},
   "outputs": [
    {
     "data": {
      "image/png": "[encoded data removed]",
      "text/plain": [
       "<matplotlib.figure.Figure at 0x7f35a51aeb90>"
      ]
     },
     "metadata": {},
     "output_type": "display_data"
    }
   ],
   "source": [
    "plt.show()"
   ]
  },
  {
   "cell_type": "code",
   "execution_count": 61,
   "metadata": {},
   "outputs": [
    {
     "data": {
      "text/html": [
       "<div>\n",
       "<style>\n",
       "    .dataframe thead tr:only-child th {\n",
       "        text-align: right;\n",
       "    }\n",
       "\n",
       "    .dataframe thead th {\n",
       "        text-align: left;\n",
       "    }\n",
       "\n",
       "    .dataframe tbody tr th {\n",
       "        vertical-align: top;\n",
       "    }\n",
       "</style>\n",
       "<table border=\"1\" class=\"dataframe\">\n",
       "  <thead>\n",
       "    <tr style=\"text-align: right;\">\n",
       "      <th></th>\n",
       "      <th>Volume</th>\n",
       "    </tr>\n",
       "    <tr>\n",
       "      <th>Date</th>\n",
       "      <th></th>\n",
       "    </tr>\n",
       "  </thead>\n",
       "  <tbody>\n",
       "    <tr>\n",
       "      <th>2006-10-09</th>\n",
       "      <td>9730048.0</td>\n",
       "    </tr>\n",
       "    <tr>\n",
       "      <th>2006-10-10</th>\n",
       "      <td>13840772.0</td>\n",
       "    </tr>\n",
       "    <tr>\n",
       "      <th>2006-10-11</th>\n",
       "      <td>7417890.0</td>\n",
       "    </tr>\n",
       "    <tr>\n",
       "      <th>2006-10-12</th>\n",
       "      <td>4170537.0</td>\n",
       "    </tr>\n",
       "    <tr>\n",
       "      <th>2006-10-13</th>\n",
       "      <td>4711635.0</td>\n",
       "    </tr>\n",
       "  </tbody>\n",
       "</table>\n",
       "</div>"
      ],
      "text/plain": [
       "                Volume\n",
       "Date                  \n",
       "2006-10-09   9730048.0\n",
       "2006-10-10  13840772.0\n",
       "2006-10-11   7417890.0\n",
       "2006-10-12   4170537.0\n",
       "2006-10-13   4711635.0"
      ]
     },
     "execution_count": 61,
     "metadata": {},
     "output_type": "execute_result"
    }
   ],
   "source": [
    "daily_volume.head()"
   ]
  },
  {
   "cell_type": "code",
   "execution_count": 62,
   "metadata": {
    "collapsed": true
   },
   "outputs": [],
   "source": [
    "moving_avg_vol = daily_volume.rolling(window=10).mean()"
   ]
  },
  {
   "cell_type": "code",
   "execution_count": 63,
   "metadata": {},
   "outputs": [
    {
     "data": {
      "text/html": [
       "<div>\n",
       "<style>\n",
       "    .dataframe thead tr:only-child th {\n",
       "        text-align: right;\n",
       "    }\n",
       "\n",
       "    .dataframe thead th {\n",
       "        text-align: left;\n",
       "    }\n",
       "\n",
       "    .dataframe tbody tr th {\n",
       "        vertical-align: top;\n",
       "    }\n",
       "</style>\n",
       "<table border=\"1\" class=\"dataframe\">\n",
       "  <thead>\n",
       "    <tr style=\"text-align: right;\">\n",
       "      <th></th>\n",
       "      <th>Volume</th>\n",
       "    </tr>\n",
       "    <tr>\n",
       "      <th>Date</th>\n",
       "      <th></th>\n",
       "    </tr>\n",
       "  </thead>\n",
       "  <tbody>\n",
       "    <tr>\n",
       "      <th>2006-10-09</th>\n",
       "      <td>NaN</td>\n",
       "    </tr>\n",
       "    <tr>\n",
       "      <th>2006-10-10</th>\n",
       "      <td>NaN</td>\n",
       "    </tr>\n",
       "    <tr>\n",
       "      <th>2006-10-11</th>\n",
       "      <td>NaN</td>\n",
       "    </tr>\n",
       "    <tr>\n",
       "      <th>2006-10-12</th>\n",
       "      <td>NaN</td>\n",
       "    </tr>\n",
       "    <tr>\n",
       "      <th>2006-10-13</th>\n",
       "      <td>NaN</td>\n",
       "    </tr>\n",
       "  </tbody>\n",
       "</table>\n",
       "</div>"
      ],
      "text/plain": [
       "            Volume\n",
       "Date              \n",
       "2006-10-09     NaN\n",
       "2006-10-10     NaN\n",
       "2006-10-11     NaN\n",
       "2006-10-12     NaN\n",
       "2006-10-13     NaN"
      ]
     },
     "execution_count": 63,
     "metadata": {},
     "output_type": "execute_result"
    }
   ],
   "source": [
    "moving_avg_vol.head()"
   ]
  },
  {
   "cell_type": "code",
   "execution_count": 64,
   "metadata": {},
   "outputs": [
    {
     "name": "stdout",
     "output_type": "stream",
     "text": [
      "                Volume\n",
      "Date                  \n",
      "2006-10-09         NaN\n",
      "2006-10-10         NaN\n",
      "2006-10-11         NaN\n",
      "2006-10-12         NaN\n",
      "2006-10-13         NaN\n",
      "2006-10-16         NaN\n",
      "2006-10-17         NaN\n",
      "2006-10-18         NaN\n",
      "2006-10-19         NaN\n",
      "2006-10-20   6863964.8\n",
      "2006-10-23   6246523.9\n",
      "2006-10-24   5310965.3\n",
      "2006-10-25   5489754.8\n",
      "2006-10-26   5651770.5\n",
      "2006-10-27   7782305.0\n",
      "2006-10-30   7953475.1\n",
      "2006-10-31   8235475.7\n",
      "2006-11-01   8018920.8\n",
      "2006-11-02   7984570.6\n",
      "2006-11-03   7650483.4\n",
      "2006-11-06   8829680.5\n",
      "2006-11-07  11770065.5\n",
      "2006-11-08  13663958.4\n",
      "2006-11-09  15533667.0\n",
      "2006-11-10  15048057.6\n",
      "2006-11-13  16241125.9\n",
      "2006-11-14  16847520.2\n",
      "2006-11-15  18129652.1\n",
      "2006-11-16  19201888.2\n",
      "2006-11-17  22007300.7\n",
      "...                ...\n",
      "2017-07-11  47406437.2\n",
      "2017-07-12  45808168.4\n",
      "2017-07-13  44038396.3\n",
      "2017-07-14  42434943.6\n",
      "2017-07-17  41906695.9\n",
      "2017-07-18  40564822.4\n",
      "2017-07-19  39303672.4\n",
      "2017-07-20  39410666.0\n",
      "2017-07-21  38307526.5\n",
      "2017-07-24  41391826.9\n",
      "2017-07-25  37796967.2\n",
      "2017-07-26  37432523.0\n",
      "2017-07-27  38842915.3\n",
      "2017-07-28  38936053.5\n",
      "2017-07-31  37632546.3\n",
      "2017-08-01  37304732.9\n",
      "2017-08-02  36722973.6\n",
      "2017-08-03  35636609.4\n",
      "2017-08-04  35756660.9\n",
      "2017-08-07  33911310.3\n",
      "2017-08-08  32762043.2\n",
      "2017-08-09  31805864.0\n",
      "2017-08-10  29916413.9\n",
      "2017-08-11  29863214.3\n",
      "2017-08-14  28670340.2\n",
      "2017-08-15  27718038.7\n",
      "2017-08-16  28330496.7\n",
      "2017-08-17  27357061.3\n",
      "2017-08-18  25995052.7\n",
      "2017-08-21  24005025.3\n",
      "\n",
      "[2650 rows x 1 columns]\n"
     ]
    }
   ],
   "source": [
    "print(moving_avg_vol)"
   ]
  },
  {
   "cell_type": "code",
   "execution_count": 69,
   "metadata": {},
   "outputs": [
    {
     "data": {
      "text/plain": [
       "<matplotlib.axes._subplots.AxesSubplot at 0x7f35a4f1cb10>"
      ]
     },
     "execution_count": 69,
     "metadata": {},
     "output_type": "execute_result"
    }
   ],
   "source": [
    "moving_avg_vol.plot(figsize=(12,8))"
   ]
  },
  {
   "cell_type": "code",
   "execution_count": 70,
   "metadata": {},
   "outputs": [
    {
     "data": {
      "image/png": "[encoded data removed]",
      "text/plain": [
       "<matplotlib.figure.Figure at 0x7f35a4f1c3d0>"
      ]
     },
     "metadata": {},
     "output_type": "display_data"
    }
   ],
   "source": [
    "plt.show()"
   ]
  },
  {
   "cell_type": "code",
   "execution_count": 71,
   "metadata": {
    "collapsed": true
   },
   "outputs": [],
   "source": [
    "daily_close_vol = t[['Adj Close', 'Volume']]"
   ]
  },
  {
   "cell_type": "code",
   "execution_count": 72,
   "metadata": {},
   "outputs": [
    {
     "data": {
      "text/html": [
       "<div>\n",
       "<style>\n",
       "    .dataframe thead tr:only-child th {\n",
       "        text-align: right;\n",
       "    }\n",
       "\n",
       "    .dataframe thead th {\n",
       "        text-align: left;\n",
       "    }\n",
       "\n",
       "    .dataframe tbody tr th {\n",
       "        vertical-align: top;\n",
       "    }\n",
       "</style>\n",
       "<table border=\"1\" class=\"dataframe\">\n",
       "  <thead>\n",
       "    <tr style=\"text-align: right;\">\n",
       "      <th></th>\n",
       "      <th>Adj Close</th>\n",
       "      <th>Volume</th>\n",
       "    </tr>\n",
       "    <tr>\n",
       "      <th>Date</th>\n",
       "      <th></th>\n",
       "      <th></th>\n",
       "    </tr>\n",
       "  </thead>\n",
       "  <tbody>\n",
       "    <tr>\n",
       "      <th>2006-10-09</th>\n",
       "      <td>1.459481</td>\n",
       "      <td>9730048.0</td>\n",
       "    </tr>\n",
       "    <tr>\n",
       "      <th>2006-10-10</th>\n",
       "      <td>1.438584</td>\n",
       "      <td>13840772.0</td>\n",
       "    </tr>\n",
       "    <tr>\n",
       "      <th>2006-10-11</th>\n",
       "      <td>1.454656</td>\n",
       "      <td>7417890.0</td>\n",
       "    </tr>\n",
       "    <tr>\n",
       "      <th>2006-10-12</th>\n",
       "      <td>1.436979</td>\n",
       "      <td>4170537.0</td>\n",
       "    </tr>\n",
       "    <tr>\n",
       "      <th>2006-10-13</th>\n",
       "      <td>1.411258</td>\n",
       "      <td>4711635.0</td>\n",
       "    </tr>\n",
       "  </tbody>\n",
       "</table>\n",
       "</div>"
      ],
      "text/plain": [
       "            Adj Close      Volume\n",
       "Date                             \n",
       "2006-10-09   1.459481   9730048.0\n",
       "2006-10-10   1.438584  13840772.0\n",
       "2006-10-11   1.454656   7417890.0\n",
       "2006-10-12   1.436979   4170537.0\n",
       "2006-10-13   1.411258   4711635.0"
      ]
     },
     "execution_count": 72,
     "metadata": {},
     "output_type": "execute_result"
    }
   ],
   "source": [
    "daily_close_vol.head()"
   ]
  },
  {
   "cell_type": "code",
   "execution_count": 73,
   "metadata": {
    "collapsed": true
   },
   "outputs": [],
   "source": [
    "min_periods = 75"
   ]
  },
  {
   "cell_type": "code",
   "execution_count": 74,
   "metadata": {
    "collapsed": true
   },
   "outputs": [],
   "source": [
    "vol = daily_pct_change.rolling(min_periods).std() * np.sqrt(min_periods) "
   ]
  },
  {
   "cell_type": "code",
   "execution_count": 75,
   "metadata": {},
   "outputs": [
    {
     "data": {
      "text/plain": [
       "<matplotlib.axes._subplots.AxesSubplot at 0x7f35a4e4bc50>"
      ]
     },
     "execution_count": 75,
     "metadata": {},
     "output_type": "execute_result"
    }
   ],
   "source": [
    "vol.plot(figsize=(10, 8))"
   ]
  },
  {
   "cell_type": "code",
   "execution_count": 76,
   "metadata": {
    "scrolled": true
   },
   "outputs": [
    {
     "data": {
      "image/png": "[encoded data removed]",
      "text/plain": [
       "<matplotlib.figure.Figure at 0x7f35a4ec4890>"
      ]
     },
     "metadata": {},
     "output_type": "display_data"
    }
   ],
   "source": [
    "plt.show()"
   ]
  },
  {
   "cell_type": "code",
   "execution_count": 139,
   "metadata": {
    "collapsed": true
   },
   "outputs": [],
   "source": [
    "t = pdr.get_data_yahoo('000333.SZ', start=datetime.datetime(2015,10,1), end=datetime.datetime.now())"
   ]
  },
  {
   "cell_type": "code",
   "execution_count": 140,
   "metadata": {
    "collapsed": true
   },
   "outputs": [],
   "source": [
    "short_window = 40\n",
    "long_window = 100"
   ]
  },
  {
   "cell_type": "code",
   "execution_count": 141,
   "metadata": {
    "collapsed": true
   },
   "outputs": [],
   "source": [
    "signals = pd.DataFrame(index=t.index)\n",
    "signals['signal'] = 0.0"
   ]
  },
  {
   "cell_type": "code",
   "execution_count": 142,
   "metadata": {
    "collapsed": true
   },
   "outputs": [],
   "source": [
    "signals['short_mavg'] = t['Close'].rolling(window=short_window, min_periods=1, center=False).mean()"
   ]
  },
  {
   "cell_type": "code",
   "execution_count": 143,
   "metadata": {
    "collapsed": true
   },
   "outputs": [],
   "source": [
    "signals['long_mavg'] = t['Close'].rolling(window=long_window, min_periods=1, center=False).mean()"
   ]
  },
  {
   "cell_type": "code",
   "execution_count": 144,
   "metadata": {
    "collapsed": true
   },
   "outputs": [],
   "source": [
    "signals['signal'][short_window:] = np.where(signals['short_mavg'][short_window:] \n",
    "                                            > signals['long_mavg'][short_window:], 1.0, 0.0)"
   ]
  },
  {
   "cell_type": "code",
   "execution_count": 145,
   "metadata": {},
   "outputs": [
    {
     "data": {
      "text/html": [
       "<div>\n",
       "<style>\n",
       "    .dataframe thead tr:only-child th {\n",
       "        text-align: right;\n",
       "    }\n",
       "\n",
       "    .dataframe thead th {\n",
       "        text-align: left;\n",
       "    }\n",
       "\n",
       "    .dataframe tbody tr th {\n",
       "        vertical-align: top;\n",
       "    }\n",
       "</style>\n",
       "<table border=\"1\" class=\"dataframe\">\n",
       "  <thead>\n",
       "    <tr style=\"text-align: right;\">\n",
       "      <th></th>\n",
       "      <th>signal</th>\n",
       "      <th>short_mavg</th>\n",
       "      <th>long_mavg</th>\n",
       "    </tr>\n",
       "    <tr>\n",
       "      <th>Date</th>\n",
       "      <th></th>\n",
       "      <th></th>\n",
       "      <th></th>\n",
       "    </tr>\n",
       "  </thead>\n",
       "  <tbody>\n",
       "    <tr>\n",
       "      <th>2015-10-08</th>\n",
       "      <td>0.0</td>\n",
       "      <td>18.073299</td>\n",
       "      <td>18.073299</td>\n",
       "    </tr>\n",
       "    <tr>\n",
       "      <th>2015-10-09</th>\n",
       "      <td>0.0</td>\n",
       "      <td>18.070000</td>\n",
       "      <td>18.070000</td>\n",
       "    </tr>\n",
       "    <tr>\n",
       "      <th>2015-10-12</th>\n",
       "      <td>0.0</td>\n",
       "      <td>18.333333</td>\n",
       "      <td>18.333333</td>\n",
       "    </tr>\n",
       "    <tr>\n",
       "      <th>2015-10-13</th>\n",
       "      <td>0.0</td>\n",
       "      <td>18.403325</td>\n",
       "      <td>18.403325</td>\n",
       "    </tr>\n",
       "    <tr>\n",
       "      <th>2015-10-14</th>\n",
       "      <td>0.0</td>\n",
       "      <td>18.318660</td>\n",
       "      <td>18.318660</td>\n",
       "    </tr>\n",
       "    <tr>\n",
       "      <th>2015-10-15</th>\n",
       "      <td>0.0</td>\n",
       "      <td>18.323334</td>\n",
       "      <td>18.323334</td>\n",
       "    </tr>\n",
       "    <tr>\n",
       "      <th>2015-10-16</th>\n",
       "      <td>0.0</td>\n",
       "      <td>18.340000</td>\n",
       "      <td>18.340000</td>\n",
       "    </tr>\n",
       "    <tr>\n",
       "      <th>2015-10-19</th>\n",
       "      <td>0.0</td>\n",
       "      <td>18.332500</td>\n",
       "      <td>18.332500</td>\n",
       "    </tr>\n",
       "    <tr>\n",
       "      <th>2015-10-20</th>\n",
       "      <td>0.0</td>\n",
       "      <td>18.332589</td>\n",
       "      <td>18.332589</td>\n",
       "    </tr>\n",
       "    <tr>\n",
       "      <th>2015-10-21</th>\n",
       "      <td>0.0</td>\n",
       "      <td>18.277330</td>\n",
       "      <td>18.277330</td>\n",
       "    </tr>\n",
       "    <tr>\n",
       "      <th>2015-10-22</th>\n",
       "      <td>0.0</td>\n",
       "      <td>18.249091</td>\n",
       "      <td>18.249091</td>\n",
       "    </tr>\n",
       "    <tr>\n",
       "      <th>2015-10-23</th>\n",
       "      <td>0.0</td>\n",
       "      <td>18.260559</td>\n",
       "      <td>18.260559</td>\n",
       "    </tr>\n",
       "    <tr>\n",
       "      <th>2015-10-26</th>\n",
       "      <td>0.0</td>\n",
       "      <td>18.281539</td>\n",
       "      <td>18.281539</td>\n",
       "    </tr>\n",
       "    <tr>\n",
       "      <th>2015-10-27</th>\n",
       "      <td>0.0</td>\n",
       "      <td>18.279522</td>\n",
       "      <td>18.279522</td>\n",
       "    </tr>\n",
       "    <tr>\n",
       "      <th>2015-10-28</th>\n",
       "      <td>0.0</td>\n",
       "      <td>18.251554</td>\n",
       "      <td>18.251554</td>\n",
       "    </tr>\n",
       "    <tr>\n",
       "      <th>2015-10-29</th>\n",
       "      <td>0.0</td>\n",
       "      <td>18.267500</td>\n",
       "      <td>18.267500</td>\n",
       "    </tr>\n",
       "    <tr>\n",
       "      <th>2015-10-30</th>\n",
       "      <td>0.0</td>\n",
       "      <td>18.291371</td>\n",
       "      <td>18.291371</td>\n",
       "    </tr>\n",
       "    <tr>\n",
       "      <th>2015-11-02</th>\n",
       "      <td>0.0</td>\n",
       "      <td>18.326295</td>\n",
       "      <td>18.326295</td>\n",
       "    </tr>\n",
       "    <tr>\n",
       "      <th>2015-11-03</th>\n",
       "      <td>0.0</td>\n",
       "      <td>18.350527</td>\n",
       "      <td>18.350527</td>\n",
       "    </tr>\n",
       "    <tr>\n",
       "      <th>2015-11-04</th>\n",
       "      <td>0.0</td>\n",
       "      <td>18.411335</td>\n",
       "      <td>18.411335</td>\n",
       "    </tr>\n",
       "    <tr>\n",
       "      <th>2015-11-05</th>\n",
       "      <td>0.0</td>\n",
       "      <td>18.488572</td>\n",
       "      <td>18.488572</td>\n",
       "    </tr>\n",
       "    <tr>\n",
       "      <th>2015-11-06</th>\n",
       "      <td>0.0</td>\n",
       "      <td>18.560909</td>\n",
       "      <td>18.560909</td>\n",
       "    </tr>\n",
       "    <tr>\n",
       "      <th>2015-11-09</th>\n",
       "      <td>0.0</td>\n",
       "      <td>18.632174</td>\n",
       "      <td>18.632174</td>\n",
       "    </tr>\n",
       "    <tr>\n",
       "      <th>2015-11-10</th>\n",
       "      <td>0.0</td>\n",
       "      <td>18.678888</td>\n",
       "      <td>18.678888</td>\n",
       "    </tr>\n",
       "    <tr>\n",
       "      <th>2015-11-11</th>\n",
       "      <td>0.0</td>\n",
       "      <td>18.716800</td>\n",
       "      <td>18.716800</td>\n",
       "    </tr>\n",
       "    <tr>\n",
       "      <th>2015-11-12</th>\n",
       "      <td>0.0</td>\n",
       "      <td>18.759231</td>\n",
       "      <td>18.759231</td>\n",
       "    </tr>\n",
       "    <tr>\n",
       "      <th>2015-11-13</th>\n",
       "      <td>0.0</td>\n",
       "      <td>18.780248</td>\n",
       "      <td>18.780248</td>\n",
       "    </tr>\n",
       "    <tr>\n",
       "      <th>2015-11-16</th>\n",
       "      <td>0.0</td>\n",
       "      <td>18.795240</td>\n",
       "      <td>18.795240</td>\n",
       "    </tr>\n",
       "    <tr>\n",
       "      <th>2015-11-17</th>\n",
       "      <td>0.0</td>\n",
       "      <td>18.814024</td>\n",
       "      <td>18.814024</td>\n",
       "    </tr>\n",
       "    <tr>\n",
       "      <th>2015-11-18</th>\n",
       "      <td>0.0</td>\n",
       "      <td>18.816890</td>\n",
       "      <td>18.816890</td>\n",
       "    </tr>\n",
       "    <tr>\n",
       "      <th>2015-11-19</th>\n",
       "      <td>0.0</td>\n",
       "      <td>18.822152</td>\n",
       "      <td>18.822152</td>\n",
       "    </tr>\n",
       "    <tr>\n",
       "      <th>2015-11-20</th>\n",
       "      <td>0.0</td>\n",
       "      <td>18.821044</td>\n",
       "      <td>18.821044</td>\n",
       "    </tr>\n",
       "    <tr>\n",
       "      <th>2015-11-23</th>\n",
       "      <td>0.0</td>\n",
       "      <td>18.818385</td>\n",
       "      <td>18.818385</td>\n",
       "    </tr>\n",
       "    <tr>\n",
       "      <th>2015-11-24</th>\n",
       "      <td>0.0</td>\n",
       "      <td>18.823727</td>\n",
       "      <td>18.823727</td>\n",
       "    </tr>\n",
       "    <tr>\n",
       "      <th>2015-11-25</th>\n",
       "      <td>0.0</td>\n",
       "      <td>18.824763</td>\n",
       "      <td>18.824763</td>\n",
       "    </tr>\n",
       "    <tr>\n",
       "      <th>2015-11-26</th>\n",
       "      <td>0.0</td>\n",
       "      <td>18.832039</td>\n",
       "      <td>18.832039</td>\n",
       "    </tr>\n",
       "    <tr>\n",
       "      <th>2015-11-27</th>\n",
       "      <td>0.0</td>\n",
       "      <td>18.811533</td>\n",
       "      <td>18.811533</td>\n",
       "    </tr>\n",
       "    <tr>\n",
       "      <th>2015-11-30</th>\n",
       "      <td>0.0</td>\n",
       "      <td>18.787195</td>\n",
       "      <td>18.787195</td>\n",
       "    </tr>\n",
       "    <tr>\n",
       "      <th>2015-12-01</th>\n",
       "      <td>0.0</td>\n",
       "      <td>18.781198</td>\n",
       "      <td>18.781198</td>\n",
       "    </tr>\n",
       "    <tr>\n",
       "      <th>2015-12-02</th>\n",
       "      <td>0.0</td>\n",
       "      <td>18.800000</td>\n",
       "      <td>18.800000</td>\n",
       "    </tr>\n",
       "    <tr>\n",
       "      <th>2015-12-03</th>\n",
       "      <td>1.0</td>\n",
       "      <td>18.833168</td>\n",
       "      <td>18.814634</td>\n",
       "    </tr>\n",
       "    <tr>\n",
       "      <th>2015-12-04</th>\n",
       "      <td>1.0</td>\n",
       "      <td>18.866333</td>\n",
       "      <td>18.828412</td>\n",
       "    </tr>\n",
       "    <tr>\n",
       "      <th>2015-12-07</th>\n",
       "      <td>1.0</td>\n",
       "      <td>18.883333</td>\n",
       "      <td>18.844961</td>\n",
       "    </tr>\n",
       "    <tr>\n",
       "      <th>2015-12-08</th>\n",
       "      <td>1.0</td>\n",
       "      <td>18.887668</td>\n",
       "      <td>18.843636</td>\n",
       "    </tr>\n",
       "    <tr>\n",
       "      <th>2015-12-09</th>\n",
       "      <td>1.0</td>\n",
       "      <td>18.913335</td>\n",
       "      <td>18.847260</td>\n",
       "    </tr>\n",
       "    <tr>\n",
       "      <th>2015-12-10</th>\n",
       "      <td>1.0</td>\n",
       "      <td>18.936000</td>\n",
       "      <td>18.856087</td>\n",
       "    </tr>\n",
       "    <tr>\n",
       "      <th>2015-12-11</th>\n",
       "      <td>1.0</td>\n",
       "      <td>18.964668</td>\n",
       "      <td>18.871632</td>\n",
       "    </tr>\n",
       "    <tr>\n",
       "      <th>2015-12-14</th>\n",
       "      <td>1.0</td>\n",
       "      <td>19.008500</td>\n",
       "      <td>18.895833</td>\n",
       "    </tr>\n",
       "    <tr>\n",
       "      <th>2015-12-15</th>\n",
       "      <td>1.0</td>\n",
       "      <td>19.051000</td>\n",
       "      <td>18.919047</td>\n",
       "    </tr>\n",
       "    <tr>\n",
       "      <th>2015-12-16</th>\n",
       "      <td>1.0</td>\n",
       "      <td>19.102833</td>\n",
       "      <td>18.937732</td>\n",
       "    </tr>\n",
       "  </tbody>\n",
       "</table>\n",
       "</div>"
      ],
      "text/plain": [
       "            signal  short_mavg  long_mavg\n",
       "Date                                     \n",
       "2015-10-08     0.0   18.073299  18.073299\n",
       "2015-10-09     0.0   18.070000  18.070000\n",
       "2015-10-12     0.0   18.333333  18.333333\n",
       "2015-10-13     0.0   18.403325  18.403325\n",
       "2015-10-14     0.0   18.318660  18.318660\n",
       "2015-10-15     0.0   18.323334  18.323334\n",
       "2015-10-16     0.0   18.340000  18.340000\n",
       "2015-10-19     0.0   18.332500  18.332500\n",
       "2015-10-20     0.0   18.332589  18.332589\n",
       "2015-10-21     0.0   18.277330  18.277330\n",
       "2015-10-22     0.0   18.249091  18.249091\n",
       "2015-10-23     0.0   18.260559  18.260559\n",
       "2015-10-26     0.0   18.281539  18.281539\n",
       "2015-10-27     0.0   18.279522  18.279522\n",
       "2015-10-28     0.0   18.251554  18.251554\n",
       "2015-10-29     0.0   18.267500  18.267500\n",
       "2015-10-30     0.0   18.291371  18.291371\n",
       "2015-11-02     0.0   18.326295  18.326295\n",
       "2015-11-03     0.0   18.350527  18.350527\n",
       "2015-11-04     0.0   18.411335  18.411335\n",
       "2015-11-05     0.0   18.488572  18.488572\n",
       "2015-11-06     0.0   18.560909  18.560909\n",
       "2015-11-09     0.0   18.632174  18.632174\n",
       "2015-11-10     0.0   18.678888  18.678888\n",
       "2015-11-11     0.0   18.716800  18.716800\n",
       "2015-11-12     0.0   18.759231  18.759231\n",
       "2015-11-13     0.0   18.780248  18.780248\n",
       "2015-11-16     0.0   18.795240  18.795240\n",
       "2015-11-17     0.0   18.814024  18.814024\n",
       "2015-11-18     0.0   18.816890  18.816890\n",
       "2015-11-19     0.0   18.822152  18.822152\n",
       "2015-11-20     0.0   18.821044  18.821044\n",
       "2015-11-23     0.0   18.818385  18.818385\n",
       "2015-11-24     0.0   18.823727  18.823727\n",
       "2015-11-25     0.0   18.824763  18.824763\n",
       "2015-11-26     0.0   18.832039  18.832039\n",
       "2015-11-27     0.0   18.811533  18.811533\n",
       "2015-11-30     0.0   18.787195  18.787195\n",
       "2015-12-01     0.0   18.781198  18.781198\n",
       "2015-12-02     0.0   18.800000  18.800000\n",
       "2015-12-03     1.0   18.833168  18.814634\n",
       "2015-12-04     1.0   18.866333  18.828412\n",
       "2015-12-07     1.0   18.883333  18.844961\n",
       "2015-12-08     1.0   18.887668  18.843636\n",
       "2015-12-09     1.0   18.913335  18.847260\n",
       "2015-12-10     1.0   18.936000  18.856087\n",
       "2015-12-11     1.0   18.964668  18.871632\n",
       "2015-12-14     1.0   19.008500  18.895833\n",
       "2015-12-15     1.0   19.051000  18.919047\n",
       "2015-12-16     1.0   19.102833  18.937732"
      ]
     },
     "execution_count": 145,
     "metadata": {},
     "output_type": "execute_result"
    }
   ],
   "source": [
    "signals.head(50)"
   ]
  },
  {
   "cell_type": "code",
   "execution_count": 146,
   "metadata": {
    "collapsed": true
   },
   "outputs": [],
   "source": [
    "signals['positions'] = signals['signal'].diff()"
   ]
  },
  {
   "cell_type": "code",
   "execution_count": 155,
   "metadata": {},
   "outputs": [
    {
     "name": "stdout",
     "output_type": "stream",
     "text": [
      "Date\n",
      "2015-10-08    NaN\n",
      "2015-10-09    0.0\n",
      "2015-10-12    0.0\n",
      "2015-10-13    0.0\n",
      "2015-10-14    0.0\n",
      "2015-10-15    0.0\n",
      "2015-10-16    0.0\n",
      "2015-10-19    0.0\n",
      "2015-10-20    0.0\n",
      "2015-10-21    0.0\n",
      "2015-10-22    0.0\n",
      "2015-10-23    0.0\n",
      "2015-10-26    0.0\n",
      "2015-10-27    0.0\n",
      "2015-10-28    0.0\n",
      "2015-10-29    0.0\n",
      "2015-10-30    0.0\n",
      "2015-11-02    0.0\n",
      "2015-11-03    0.0\n",
      "2015-11-04    0.0\n",
      "2015-11-05    0.0\n",
      "2015-11-06    0.0\n",
      "2015-11-09    0.0\n",
      "2015-11-10    0.0\n",
      "2015-11-11    0.0\n",
      "2015-11-12    0.0\n",
      "2015-11-13    0.0\n",
      "2015-11-16    0.0\n",
      "2015-11-17    0.0\n",
      "2015-11-18    0.0\n",
      "2015-11-19    0.0\n",
      "2015-11-20    0.0\n",
      "2015-11-23    0.0\n",
      "2015-11-24    0.0\n",
      "2015-11-25    0.0\n",
      "2015-11-26    0.0\n",
      "2015-11-27    0.0\n",
      "2015-11-30    0.0\n",
      "2015-12-01    0.0\n",
      "2015-12-02    0.0\n",
      "2015-12-03    1.0\n",
      "2015-12-04    0.0\n",
      "2015-12-07    0.0\n",
      "2015-12-08    0.0\n",
      "2015-12-09    0.0\n",
      "2015-12-10    0.0\n",
      "2015-12-11    0.0\n",
      "2015-12-14    0.0\n",
      "2015-12-15    0.0\n",
      "2015-12-16    0.0\n",
      "Name: positions, dtype: float64\n"
     ]
    }
   ],
   "source": [
    "print(signals['positions'][:50])"
   ]
  },
  {
   "cell_type": "code",
   "execution_count": 254,
   "metadata": {
    "collapsed": true
   },
   "outputs": [],
   "source": [
    "fig, ax1 = None, None"
   ]
  },
  {
   "cell_type": "code",
   "execution_count": 255,
   "metadata": {
    "collapsed": true
   },
   "outputs": [],
   "source": [
    "fig = plt.figure(figsize=(15,8))"
   ]
  },
  {
   "cell_type": "code",
   "execution_count": 256,
   "metadata": {
    "collapsed": true
   },
   "outputs": [],
   "source": [
    "ax1 = fig.add_subplot(111,  ylabel='Price in $')"
   ]
  },
  {
   "cell_type": "code",
   "execution_count": 257,
   "metadata": {},
   "outputs": [
    {
     "data": {
      "text/plain": [
       "<matplotlib.axes._subplots.AxesSubplot at 0x7f35a2145a50>"
      ]
     },
     "execution_count": 257,
     "metadata": {},
     "output_type": "execute_result"
    }
   ],
   "source": [
    "t['Close'].plot(ax=ax1, color='r', lw=2.)"
   ]
  },
  {
   "cell_type": "code",
   "execution_count": 258,
   "metadata": {},
   "outputs": [
    {
     "data": {
      "text/plain": [
       "<matplotlib.axes._subplots.AxesSubplot at 0x7f35a2145a50>"
      ]
     },
     "execution_count": 258,
     "metadata": {},
     "output_type": "execute_result"
    }
   ],
   "source": [
    "signals[['short_mavg', 'long_mavg']].plot(ax=ax1, lw=2.)"
   ]
  },
  {
   "cell_type": "code",
   "execution_count": 259,
   "metadata": {},
   "outputs": [
    {
     "data": {
      "text/plain": [
       "[<matplotlib.lines.Line2D at 0x7f35a225fd10>]"
      ]
     },
     "execution_count": 259,
     "metadata": {},
     "output_type": "execute_result"
    }
   ],
   "source": [
    "ax1.plot(signals.loc[signals.positions == 1.0].index, \n",
    "         signals.short_mavg[signals.positions == 1.0],\n",
    "         '^', markersize=10, color='m')"
   ]
  },
  {
   "cell_type": "code",
   "execution_count": 260,
   "metadata": {},
   "outputs": [
    {
     "data": {
      "text/plain": [
       "[<matplotlib.lines.Line2D at 0x7f35a21a9d50>]"
      ]
     },
     "execution_count": 260,
     "metadata": {},
     "output_type": "execute_result"
    }
   ],
   "source": [
    "ax1.plot(signals.loc[signals.positions == -1.0].index, \n",
    "         signals.short_mavg[signals.positions == -1.0],\n",
    "         'v', markersize=10, color='k')"
   ]
  },
  {
   "cell_type": "code",
   "execution_count": 261,
   "metadata": {},
   "outputs": [
    {
     "data": {
      "image/png": "[encoded data removed]",
      "text/plain": [
       "<matplotlib.figure.Figure at 0x7f35a2185f50>"
      ]
     },
     "metadata": {},
     "output_type": "display_data"
    }
   ],
   "source": [
    "plt.show()"
   ]
  },
  {
   "cell_type": "code",
   "execution_count": 251,
   "metadata": {
    "scrolled": true
   },
   "outputs": [
    {
     "name": "stdout",
     "output_type": "stream",
     "text": [
      "Date\n",
      "2015-12-03    18.833168\n",
      "2016-04-11    19.440327\n",
      "Name: short_mavg, dtype: float64\n"
     ]
    }
   ],
   "source": [
    "print(signals.short_mavg[signals.positions == 1.0])"
   ]
  },
  {
   "cell_type": "code",
   "execution_count": 253,
   "metadata": {},
   "outputs": [
    {
     "name": "stdout",
     "output_type": "stream",
     "text": [
      "DatetimeIndex(['2015-12-03', '2016-04-11'], dtype='datetime64[ns]', name=u'Date', freq=None)\n"
     ]
    }
   ],
   "source": [
    "print(signals.loc[signals.positions == 1.0].index)"
   ]
  },
  {
   "cell_type": "code",
   "execution_count": null,
   "metadata": {
    "collapsed": true
   },
   "outputs": [],
   "source": []
  }
 ],
 "metadata": {
  "kernelspec": {
   "display_name": "Python 2",
   "language": "python",
   "name": "python2"
  },
  "language_info": {
   "codemirror_mode": {
    "name": "ipython",
    "version": 2
   },
   "file_extension": ".py",
   "mimetype": "text/x-python",
   "name": "python",
   "nbconvert_exporter": "python",
   "pygments_lexer": "ipython2",
   "version": "2.7.13"
  }
 },
 "nbformat": 4,
 "nbformat_minor": 2
}
